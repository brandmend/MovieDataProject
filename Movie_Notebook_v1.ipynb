{
 "cells": [
  {
   "cell_type": "markdown",
   "metadata": {},
   "source": [
    "## Data Understanding\n"
   ]
  },
  {
   "cell_type": "markdown",
   "metadata": {},
   "source": [
    "#### Import Pandas, Matplotlib & SQLite"
   ]
  },
  {
   "cell_type": "code",
   "execution_count": 1,
   "metadata": {},
   "outputs": [],
   "source": [
    "import pandas as pd"
   ]
  },
  {
   "cell_type": "code",
   "execution_count": 2,
   "metadata": {},
   "outputs": [],
   "source": [
    "import sqlite3"
   ]
  },
  {
   "cell_type": "code",
   "execution_count": 29,
   "metadata": {},
   "outputs": [],
   "source": [
    "import matplotlib.pyplot as plt"
   ]
  },
  {
   "cell_type": "markdown",
   "metadata": {},
   "source": [
    "#### Connect to IMDB Database"
   ]
  },
  {
   "cell_type": "code",
   "execution_count": 4,
   "metadata": {},
   "outputs": [],
   "source": [
    "conn = sqlite3.connect('zippedData/im.db')"
   ]
  },
  {
   "cell_type": "markdown",
   "metadata": {},
   "source": [
    "#### Create IMDB tables listing "
   ]
  },
  {
   "cell_type": "code",
   "execution_count": 5,
   "metadata": {
    "scrolled": true
   },
   "outputs": [
    {
     "data": {
      "text/html": [
       "<div>\n",
       "<style scoped>\n",
       "    .dataframe tbody tr th:only-of-type {\n",
       "        vertical-align: middle;\n",
       "    }\n",
       "\n",
       "    .dataframe tbody tr th {\n",
       "        vertical-align: top;\n",
       "    }\n",
       "\n",
       "    .dataframe thead th {\n",
       "        text-align: right;\n",
       "    }\n",
       "</style>\n",
       "<table border=\"1\" class=\"dataframe\">\n",
       "  <thead>\n",
       "    <tr style=\"text-align: right;\">\n",
       "      <th></th>\n",
       "      <th>type</th>\n",
       "      <th>name</th>\n",
       "      <th>tbl_name</th>\n",
       "      <th>rootpage</th>\n",
       "      <th>sql</th>\n",
       "    </tr>\n",
       "  </thead>\n",
       "  <tbody>\n",
       "    <tr>\n",
       "      <th>0</th>\n",
       "      <td>table</td>\n",
       "      <td>movie_basics</td>\n",
       "      <td>movie_basics</td>\n",
       "      <td>2</td>\n",
       "      <td>CREATE TABLE \"movie_basics\" (\\n\"movie_id\" TEXT...</td>\n",
       "    </tr>\n",
       "    <tr>\n",
       "      <th>1</th>\n",
       "      <td>table</td>\n",
       "      <td>directors</td>\n",
       "      <td>directors</td>\n",
       "      <td>3</td>\n",
       "      <td>CREATE TABLE \"directors\" (\\n\"movie_id\" TEXT,\\n...</td>\n",
       "    </tr>\n",
       "    <tr>\n",
       "      <th>2</th>\n",
       "      <td>table</td>\n",
       "      <td>known_for</td>\n",
       "      <td>known_for</td>\n",
       "      <td>4</td>\n",
       "      <td>CREATE TABLE \"known_for\" (\\n\"person_id\" TEXT,\\...</td>\n",
       "    </tr>\n",
       "    <tr>\n",
       "      <th>3</th>\n",
       "      <td>table</td>\n",
       "      <td>movie_akas</td>\n",
       "      <td>movie_akas</td>\n",
       "      <td>5</td>\n",
       "      <td>CREATE TABLE \"movie_akas\" (\\n\"movie_id\" TEXT,\\...</td>\n",
       "    </tr>\n",
       "    <tr>\n",
       "      <th>4</th>\n",
       "      <td>table</td>\n",
       "      <td>movie_ratings</td>\n",
       "      <td>movie_ratings</td>\n",
       "      <td>6</td>\n",
       "      <td>CREATE TABLE \"movie_ratings\" (\\n\"movie_id\" TEX...</td>\n",
       "    </tr>\n",
       "    <tr>\n",
       "      <th>5</th>\n",
       "      <td>table</td>\n",
       "      <td>persons</td>\n",
       "      <td>persons</td>\n",
       "      <td>7</td>\n",
       "      <td>CREATE TABLE \"persons\" (\\n\"person_id\" TEXT,\\n ...</td>\n",
       "    </tr>\n",
       "    <tr>\n",
       "      <th>6</th>\n",
       "      <td>table</td>\n",
       "      <td>principals</td>\n",
       "      <td>principals</td>\n",
       "      <td>8</td>\n",
       "      <td>CREATE TABLE \"principals\" (\\n\"movie_id\" TEXT,\\...</td>\n",
       "    </tr>\n",
       "    <tr>\n",
       "      <th>7</th>\n",
       "      <td>table</td>\n",
       "      <td>writers</td>\n",
       "      <td>writers</td>\n",
       "      <td>9</td>\n",
       "      <td>CREATE TABLE \"writers\" (\\n\"movie_id\" TEXT,\\n  ...</td>\n",
       "    </tr>\n",
       "  </tbody>\n",
       "</table>\n",
       "</div>"
      ],
      "text/plain": [
       "    type           name       tbl_name  rootpage  \\\n",
       "0  table   movie_basics   movie_basics         2   \n",
       "1  table      directors      directors         3   \n",
       "2  table      known_for      known_for         4   \n",
       "3  table     movie_akas     movie_akas         5   \n",
       "4  table  movie_ratings  movie_ratings         6   \n",
       "5  table        persons        persons         7   \n",
       "6  table     principals     principals         8   \n",
       "7  table        writers        writers         9   \n",
       "\n",
       "                                                 sql  \n",
       "0  CREATE TABLE \"movie_basics\" (\\n\"movie_id\" TEXT...  \n",
       "1  CREATE TABLE \"directors\" (\\n\"movie_id\" TEXT,\\n...  \n",
       "2  CREATE TABLE \"known_for\" (\\n\"person_id\" TEXT,\\...  \n",
       "3  CREATE TABLE \"movie_akas\" (\\n\"movie_id\" TEXT,\\...  \n",
       "4  CREATE TABLE \"movie_ratings\" (\\n\"movie_id\" TEX...  \n",
       "5  CREATE TABLE \"persons\" (\\n\"person_id\" TEXT,\\n ...  \n",
       "6  CREATE TABLE \"principals\" (\\n\"movie_id\" TEXT,\\...  \n",
       "7  CREATE TABLE \"writers\" (\\n\"movie_id\" TEXT,\\n  ...  "
      ]
     },
     "execution_count": 5,
     "metadata": {},
     "output_type": "execute_result"
    }
   ],
   "source": [
    "imdb_tables = '''\n",
    "\n",
    "SELECT * FROM sqlite_master\n",
    "\n",
    "'''\n",
    "\n",
    "pd.read_sql_query(imdb_tables,conn)"
   ]
  },
  {
   "cell_type": "markdown",
   "metadata": {},
   "source": [
    "#### Storing Key IMDB Tables"
   ]
  },
  {
   "cell_type": "code",
   "execution_count": 63,
   "metadata": {
    "scrolled": false
   },
   "outputs": [
    {
     "name": "stdout",
     "output_type": "stream",
     "text": [
      "<class 'pandas.core.frame.DataFrame'>\n",
      "RangeIndex: 146144 entries, 0 to 146143\n",
      "Data columns (total 6 columns):\n",
      " #   Column           Non-Null Count   Dtype  \n",
      "---  ------           --------------   -----  \n",
      " 0   movie_id         146144 non-null  object \n",
      " 1   primary_title    146144 non-null  object \n",
      " 2   original_title   146123 non-null  object \n",
      " 3   start_year       146144 non-null  int64  \n",
      " 4   runtime_minutes  114405 non-null  float64\n",
      " 5   genres           140736 non-null  object \n",
      "dtypes: float64(1), int64(1), object(4)\n",
      "memory usage: 6.7+ MB\n"
     ]
    }
   ],
   "source": [
    "movie_basics = pd.read_sql_query(''' SELECT * FROM movie_basics''',conn)\n",
    "movie_basics.to_csv()\n",
    "movie_basics.info()"
   ]
  },
  {
   "cell_type": "code",
   "execution_count": 62,
   "metadata": {},
   "outputs": [
    {
     "name": "stdout",
     "output_type": "stream",
     "text": [
      "<class 'pandas.core.frame.DataFrame'>\n",
      "RangeIndex: 73856 entries, 0 to 73855\n",
      "Data columns (total 3 columns):\n",
      " #   Column         Non-Null Count  Dtype  \n",
      "---  ------         --------------  -----  \n",
      " 0   movie_id       73856 non-null  object \n",
      " 1   averagerating  73856 non-null  float64\n",
      " 2   numvotes       73856 non-null  int64  \n",
      "dtypes: float64(1), int64(1), object(1)\n",
      "memory usage: 1.7+ MB\n"
     ]
    }
   ],
   "source": [
    "movie_ratings = pd.read_sql_query(''' SELECT * FROM movie_ratings ''',conn)\n",
    "movie_ratings.to_csv()\n",
    "movie_ratings.info()"
   ]
  },
  {
   "cell_type": "code",
   "execution_count": 58,
   "metadata": {
    "scrolled": true
   },
   "outputs": [
    {
     "data": {
      "text/html": [
       "<div>\n",
       "<style scoped>\n",
       "    .dataframe tbody tr th:only-of-type {\n",
       "        vertical-align: middle;\n",
       "    }\n",
       "\n",
       "    .dataframe tbody tr th {\n",
       "        vertical-align: top;\n",
       "    }\n",
       "\n",
       "    .dataframe thead th {\n",
       "        text-align: right;\n",
       "    }\n",
       "</style>\n",
       "<table border=\"1\" class=\"dataframe\">\n",
       "  <thead>\n",
       "    <tr style=\"text-align: right;\">\n",
       "      <th></th>\n",
       "      <th>movie_id</th>\n",
       "      <th>ordering</th>\n",
       "      <th>title</th>\n",
       "      <th>region</th>\n",
       "      <th>language</th>\n",
       "      <th>types</th>\n",
       "      <th>attributes</th>\n",
       "      <th>is_original_title</th>\n",
       "    </tr>\n",
       "  </thead>\n",
       "  <tbody>\n",
       "    <tr>\n",
       "      <th>0</th>\n",
       "      <td>tt0369610</td>\n",
       "      <td>10</td>\n",
       "      <td>Джурасик свят</td>\n",
       "      <td>BG</td>\n",
       "      <td>bg</td>\n",
       "      <td>None</td>\n",
       "      <td>None</td>\n",
       "      <td>0.0</td>\n",
       "    </tr>\n",
       "    <tr>\n",
       "      <th>1</th>\n",
       "      <td>tt0369610</td>\n",
       "      <td>11</td>\n",
       "      <td>Jurashikku warudo</td>\n",
       "      <td>JP</td>\n",
       "      <td>None</td>\n",
       "      <td>imdbDisplay</td>\n",
       "      <td>None</td>\n",
       "      <td>0.0</td>\n",
       "    </tr>\n",
       "    <tr>\n",
       "      <th>2</th>\n",
       "      <td>tt0369610</td>\n",
       "      <td>12</td>\n",
       "      <td>Jurassic World: O Mundo dos Dinossauros</td>\n",
       "      <td>BR</td>\n",
       "      <td>None</td>\n",
       "      <td>imdbDisplay</td>\n",
       "      <td>None</td>\n",
       "      <td>0.0</td>\n",
       "    </tr>\n",
       "    <tr>\n",
       "      <th>3</th>\n",
       "      <td>tt0369610</td>\n",
       "      <td>13</td>\n",
       "      <td>O Mundo dos Dinossauros</td>\n",
       "      <td>BR</td>\n",
       "      <td>None</td>\n",
       "      <td>None</td>\n",
       "      <td>short title</td>\n",
       "      <td>0.0</td>\n",
       "    </tr>\n",
       "    <tr>\n",
       "      <th>4</th>\n",
       "      <td>tt0369610</td>\n",
       "      <td>14</td>\n",
       "      <td>Jurassic World</td>\n",
       "      <td>FR</td>\n",
       "      <td>None</td>\n",
       "      <td>imdbDisplay</td>\n",
       "      <td>None</td>\n",
       "      <td>0.0</td>\n",
       "    </tr>\n",
       "  </tbody>\n",
       "</table>\n",
       "</div>"
      ],
      "text/plain": [
       "    movie_id  ordering                                    title region  \\\n",
       "0  tt0369610        10                            Джурасик свят     BG   \n",
       "1  tt0369610        11                        Jurashikku warudo     JP   \n",
       "2  tt0369610        12  Jurassic World: O Mundo dos Dinossauros     BR   \n",
       "3  tt0369610        13                  O Mundo dos Dinossauros     BR   \n",
       "4  tt0369610        14                           Jurassic World     FR   \n",
       "\n",
       "  language        types   attributes  is_original_title  \n",
       "0       bg         None         None                0.0  \n",
       "1     None  imdbDisplay         None                0.0  \n",
       "2     None  imdbDisplay         None                0.0  \n",
       "3     None         None  short title                0.0  \n",
       "4     None  imdbDisplay         None                0.0  "
      ]
     },
     "execution_count": 58,
     "metadata": {},
     "output_type": "execute_result"
    }
   ],
   "source": [
    "movie_akas = pd.read_sql_query(''' SELECT * FROM movie_akas''',conn)\n",
    "movie_akas.to_csv()\n",
    "movie_akas.head()"
   ]
  },
  {
   "cell_type": "code",
   "execution_count": 69,
   "metadata": {},
   "outputs": [
    {
     "name": "stdout",
     "output_type": "stream",
     "text": [
      "<class 'pandas.core.frame.DataFrame'>\n",
      "RangeIndex: 73856 entries, 0 to 73855\n",
      "Data columns (total 8 columns):\n",
      " #   Column          Non-Null Count  Dtype  \n",
      "---  ------          --------------  -----  \n",
      " 0   movie_id        73856 non-null  object \n",
      " 1   primary_title   73856 non-null  object \n",
      " 2   original_title  73856 non-null  object \n",
      " 3   genres          73052 non-null  object \n",
      " 4   start_year      73856 non-null  int64  \n",
      " 5   averagerating   73856 non-null  float64\n",
      " 6   numvotes        73856 non-null  int64  \n",
      " 7   total_weight    73856 non-null  float64\n",
      "dtypes: float64(2), int64(2), object(4)\n",
      "memory usage: 4.5+ MB\n"
     ]
    }
   ],
   "source": [
    "movies_agg = pd.read_sql_query('''\n",
    "SELECT \n",
    "mr.movie_id\n",
    ",mb.primary_title\n",
    ",mb.original_title\n",
    ",mb.genres\n",
    ",mb.start_year\n",
    ",averagerating\n",
    ",numvotes\n",
    ",(averagerating*numvotes) as total_weight\n",
    "\n",
    "FROM movie_ratings mr\n",
    "LEFT JOIN movie_basics mb\n",
    "ON mr.movie_id = mb.movie_id\n",
    "\n",
    "GROUP BY 1,2,3,4,5,6,7\n",
    "\n",
    "ORDER BY total_weight DESC;\n",
    "\n",
    "''',conn)\n",
    "\n",
    "movies_agg.info()"
   ]
  },
  {
   "cell_type": "markdown",
   "metadata": {},
   "source": [
    "#### Import Earnings/Budget Data Files"
   ]
  },
  {
   "cell_type": "code",
   "execution_count": 9,
   "metadata": {},
   "outputs": [
    {
     "name": "stdout",
     "output_type": "stream",
     "text": [
      "<class 'pandas.core.frame.DataFrame'>\n",
      "RangeIndex: 3387 entries, 0 to 3386\n",
      "Data columns (total 5 columns):\n",
      " #   Column          Non-Null Count  Dtype  \n",
      "---  ------          --------------  -----  \n",
      " 0   title           3387 non-null   object \n",
      " 1   studio          3382 non-null   object \n",
      " 2   domestic_gross  3359 non-null   float64\n",
      " 3   foreign_gross   2037 non-null   object \n",
      " 4   year            3387 non-null   int64  \n",
      "dtypes: float64(1), int64(1), object(3)\n",
      "memory usage: 132.4+ KB\n"
     ]
    }
   ],
   "source": [
    "movie_gross = pd.read_csv('./zippedData/bom.movie_gross.csv.gz')\n",
    "movie_gross.to_csv()\n",
    "movie_gross.info()"
   ]
  },
  {
   "cell_type": "code",
   "execution_count": 10,
   "metadata": {},
   "outputs": [
    {
     "name": "stdout",
     "output_type": "stream",
     "text": [
      "<class 'pandas.core.frame.DataFrame'>\n",
      "RangeIndex: 5782 entries, 0 to 5781\n",
      "Data columns (total 6 columns):\n",
      " #   Column             Non-Null Count  Dtype \n",
      "---  ------             --------------  ----- \n",
      " 0   id                 5782 non-null   int64 \n",
      " 1   release_date       5782 non-null   object\n",
      " 2   movie              5782 non-null   object\n",
      " 3   production_budget  5782 non-null   object\n",
      " 4   domestic_gross     5782 non-null   object\n",
      " 5   worldwide_gross    5782 non-null   object\n",
      "dtypes: int64(1), object(5)\n",
      "memory usage: 271.2+ KB\n"
     ]
    }
   ],
   "source": [
    "movie_budget = pd.read_csv('./zippedData/tn.movie_budgets.csv.gz')\n",
    "movie_budget.to_csv()\n",
    "movie_budget.info()"
   ]
  },
  {
   "cell_type": "markdown",
   "metadata": {},
   "source": [
    "#### Import Additional Data Tables (to be used if needed)"
   ]
  },
  {
   "cell_type": "code",
   "execution_count": 11,
   "metadata": {},
   "outputs": [
    {
     "name": "stdout",
     "output_type": "stream",
     "text": [
      "<class 'pandas.core.frame.DataFrame'>\n",
      "RangeIndex: 26517 entries, 0 to 26516\n",
      "Data columns (total 10 columns):\n",
      " #   Column             Non-Null Count  Dtype  \n",
      "---  ------             --------------  -----  \n",
      " 0   Unnamed: 0         26517 non-null  int64  \n",
      " 1   genre_ids          26517 non-null  object \n",
      " 2   id                 26517 non-null  int64  \n",
      " 3   original_language  26517 non-null  object \n",
      " 4   original_title     26517 non-null  object \n",
      " 5   popularity         26517 non-null  float64\n",
      " 6   release_date       26517 non-null  object \n",
      " 7   title              26517 non-null  object \n",
      " 8   vote_average       26517 non-null  float64\n",
      " 9   vote_count         26517 non-null  int64  \n",
      "dtypes: float64(2), int64(3), object(5)\n",
      "memory usage: 2.0+ MB\n"
     ]
    }
   ],
   "source": [
    "tmdb_data = pd.read_csv('./zippedData/tmdb.movies.csv.gz')\n",
    "tmdb_data.to_csv()\n",
    "tmdb_data.info()"
   ]
  },
  {
   "cell_type": "markdown",
   "metadata": {},
   "source": [
    "## Data Wrangling"
   ]
  },
  {
   "cell_type": "markdown",
   "metadata": {},
   "source": [
    "#### Create Movie Budget Table with Total Gross and Total Margin Calculations"
   ]
  },
  {
   "cell_type": "code",
   "execution_count": 14,
   "metadata": {},
   "outputs": [],
   "source": [
    "movie_budget['domestic_gross'] = movie_budget['domestic_gross'].map(lambda x: float(x.split('$')[1].replace(',','')))"
   ]
  },
  {
   "cell_type": "code",
   "execution_count": 15,
   "metadata": {},
   "outputs": [],
   "source": [
    "movie_budget['worldwide_gross'] = movie_budget['worldwide_gross'].map(lambda x: float(x.split('$')[1].replace(',','')))"
   ]
  },
  {
   "cell_type": "code",
   "execution_count": 19,
   "metadata": {},
   "outputs": [],
   "source": [
    "movie_budget['production_budget'] = movie_budget['production_budget'].map(lambda x: float(x.split('$')[1].replace(',','')))"
   ]
  },
  {
   "cell_type": "code",
   "execution_count": 17,
   "metadata": {},
   "outputs": [],
   "source": [
    "movie_budget['total_gross'] = movie_budget['domestic_gross'] + movie_budget['worldwide_gross']"
   ]
  },
  {
   "cell_type": "code",
   "execution_count": 20,
   "metadata": {},
   "outputs": [],
   "source": [
    "movie_budget['total_margin_$'] = movie_budget['total_gross'] - movie_budget['production_budget']"
   ]
  },
  {
   "cell_type": "code",
   "execution_count": 24,
   "metadata": {},
   "outputs": [],
   "source": [
    "movie_budget['total_margin_%'] = (movie_budget['total_margin_$']/movie_budget['production_budget'])*100"
   ]
  },
  {
   "cell_type": "code",
   "execution_count": 22,
   "metadata": {},
   "outputs": [],
   "source": [
    "movie_budget['domestic_margin_$'] = movie_budget['production_budget'] - movie_budget['domestic_gross']"
   ]
  },
  {
   "cell_type": "code",
   "execution_count": 23,
   "metadata": {},
   "outputs": [],
   "source": [
    "movie_budget['domestic_margin_%'] = (movie_budget['domestic_margin_$']/movie_budget['production_budget'])*100"
   ]
  },
  {
   "cell_type": "code",
   "execution_count": 25,
   "metadata": {},
   "outputs": [
    {
     "name": "stdout",
     "output_type": "stream",
     "text": [
      "<class 'pandas.core.frame.DataFrame'>\n",
      "RangeIndex: 5782 entries, 0 to 5781\n",
      "Data columns (total 11 columns):\n",
      " #   Column             Non-Null Count  Dtype  \n",
      "---  ------             --------------  -----  \n",
      " 0   id                 5782 non-null   int64  \n",
      " 1   release_date       5782 non-null   object \n",
      " 2   movie              5782 non-null   object \n",
      " 3   production_budget  5782 non-null   float64\n",
      " 4   domestic_gross     5782 non-null   float64\n",
      " 5   worldwide_gross    5782 non-null   float64\n",
      " 6   total_gross        5782 non-null   float64\n",
      " 7   total_margin_$     5782 non-null   float64\n",
      " 8   total_margin_%     5782 non-null   float64\n",
      " 9   domestic_margin_$  5782 non-null   float64\n",
      " 10  domestic_margin_%  5782 non-null   float64\n",
      "dtypes: float64(8), int64(1), object(2)\n",
      "memory usage: 497.0+ KB\n"
     ]
    }
   ],
   "source": [
    "movie_budget.info()"
   ]
  },
  {
   "cell_type": "code",
   "execution_count": 26,
   "metadata": {},
   "outputs": [
    {
     "data": {
      "text/html": [
       "<div>\n",
       "<style scoped>\n",
       "    .dataframe tbody tr th:only-of-type {\n",
       "        vertical-align: middle;\n",
       "    }\n",
       "\n",
       "    .dataframe tbody tr th {\n",
       "        vertical-align: top;\n",
       "    }\n",
       "\n",
       "    .dataframe thead th {\n",
       "        text-align: right;\n",
       "    }\n",
       "</style>\n",
       "<table border=\"1\" class=\"dataframe\">\n",
       "  <thead>\n",
       "    <tr style=\"text-align: right;\">\n",
       "      <th></th>\n",
       "      <th>id</th>\n",
       "      <th>release_date</th>\n",
       "      <th>movie</th>\n",
       "      <th>production_budget</th>\n",
       "      <th>domestic_gross</th>\n",
       "      <th>worldwide_gross</th>\n",
       "      <th>total_gross</th>\n",
       "      <th>total_margin_$</th>\n",
       "      <th>total_margin_%</th>\n",
       "      <th>domestic_margin_$</th>\n",
       "      <th>domestic_margin_%</th>\n",
       "    </tr>\n",
       "  </thead>\n",
       "  <tbody>\n",
       "    <tr>\n",
       "      <th>0</th>\n",
       "      <td>1</td>\n",
       "      <td>Dec 18, 2009</td>\n",
       "      <td>Avatar</td>\n",
       "      <td>425000000.0</td>\n",
       "      <td>760507625.0</td>\n",
       "      <td>2.776345e+09</td>\n",
       "      <td>3.536853e+09</td>\n",
       "      <td>3.111853e+09</td>\n",
       "      <td>732.200683</td>\n",
       "      <td>-335507625.0</td>\n",
       "      <td>-78.942971</td>\n",
       "    </tr>\n",
       "    <tr>\n",
       "      <th>1</th>\n",
       "      <td>2</td>\n",
       "      <td>May 20, 2011</td>\n",
       "      <td>Pirates of the Caribbean: On Stranger Tides</td>\n",
       "      <td>410600000.0</td>\n",
       "      <td>241063875.0</td>\n",
       "      <td>1.045664e+09</td>\n",
       "      <td>1.286728e+09</td>\n",
       "      <td>8.761278e+08</td>\n",
       "      <td>213.377435</td>\n",
       "      <td>169536125.0</td>\n",
       "      <td>41.289850</td>\n",
       "    </tr>\n",
       "    <tr>\n",
       "      <th>2</th>\n",
       "      <td>3</td>\n",
       "      <td>Jun 7, 2019</td>\n",
       "      <td>Dark Phoenix</td>\n",
       "      <td>350000000.0</td>\n",
       "      <td>42762350.0</td>\n",
       "      <td>1.497624e+08</td>\n",
       "      <td>1.925247e+08</td>\n",
       "      <td>-1.574753e+08</td>\n",
       "      <td>-44.992943</td>\n",
       "      <td>307237650.0</td>\n",
       "      <td>87.782186</td>\n",
       "    </tr>\n",
       "    <tr>\n",
       "      <th>3</th>\n",
       "      <td>4</td>\n",
       "      <td>May 1, 2015</td>\n",
       "      <td>Avengers: Age of Ultron</td>\n",
       "      <td>330600000.0</td>\n",
       "      <td>459005868.0</td>\n",
       "      <td>1.403014e+09</td>\n",
       "      <td>1.862020e+09</td>\n",
       "      <td>1.531420e+09</td>\n",
       "      <td>463.224389</td>\n",
       "      <td>-128405868.0</td>\n",
       "      <td>-38.840250</td>\n",
       "    </tr>\n",
       "    <tr>\n",
       "      <th>4</th>\n",
       "      <td>5</td>\n",
       "      <td>Dec 15, 2017</td>\n",
       "      <td>Star Wars Ep. VIII: The Last Jedi</td>\n",
       "      <td>317000000.0</td>\n",
       "      <td>620181382.0</td>\n",
       "      <td>1.316722e+09</td>\n",
       "      <td>1.936903e+09</td>\n",
       "      <td>1.619903e+09</td>\n",
       "      <td>511.010451</td>\n",
       "      <td>-303181382.0</td>\n",
       "      <td>-95.640815</td>\n",
       "    </tr>\n",
       "    <tr>\n",
       "      <th>5</th>\n",
       "      <td>6</td>\n",
       "      <td>Dec 18, 2015</td>\n",
       "      <td>Star Wars Ep. VII: The Force Awakens</td>\n",
       "      <td>306000000.0</td>\n",
       "      <td>936662225.0</td>\n",
       "      <td>2.053311e+09</td>\n",
       "      <td>2.989973e+09</td>\n",
       "      <td>2.683973e+09</td>\n",
       "      <td>877.115505</td>\n",
       "      <td>-630662225.0</td>\n",
       "      <td>-206.098766</td>\n",
       "    </tr>\n",
       "    <tr>\n",
       "      <th>6</th>\n",
       "      <td>7</td>\n",
       "      <td>Apr 27, 2018</td>\n",
       "      <td>Avengers: Infinity War</td>\n",
       "      <td>300000000.0</td>\n",
       "      <td>678815482.0</td>\n",
       "      <td>2.048134e+09</td>\n",
       "      <td>2.726950e+09</td>\n",
       "      <td>2.426950e+09</td>\n",
       "      <td>808.983227</td>\n",
       "      <td>-378815482.0</td>\n",
       "      <td>-126.271827</td>\n",
       "    </tr>\n",
       "    <tr>\n",
       "      <th>7</th>\n",
       "      <td>8</td>\n",
       "      <td>May 24, 2007</td>\n",
       "      <td>Pirates of the Caribbean: At Worldâs End</td>\n",
       "      <td>300000000.0</td>\n",
       "      <td>309420425.0</td>\n",
       "      <td>9.634204e+08</td>\n",
       "      <td>1.272841e+09</td>\n",
       "      <td>9.728408e+08</td>\n",
       "      <td>324.280283</td>\n",
       "      <td>-9420425.0</td>\n",
       "      <td>-3.140142</td>\n",
       "    </tr>\n",
       "    <tr>\n",
       "      <th>8</th>\n",
       "      <td>9</td>\n",
       "      <td>Nov 17, 2017</td>\n",
       "      <td>Justice League</td>\n",
       "      <td>300000000.0</td>\n",
       "      <td>229024295.0</td>\n",
       "      <td>6.559452e+08</td>\n",
       "      <td>8.849695e+08</td>\n",
       "      <td>5.849695e+08</td>\n",
       "      <td>194.989835</td>\n",
       "      <td>70975705.0</td>\n",
       "      <td>23.658568</td>\n",
       "    </tr>\n",
       "    <tr>\n",
       "      <th>9</th>\n",
       "      <td>10</td>\n",
       "      <td>Nov 6, 2015</td>\n",
       "      <td>Spectre</td>\n",
       "      <td>300000000.0</td>\n",
       "      <td>200074175.0</td>\n",
       "      <td>8.796209e+08</td>\n",
       "      <td>1.079695e+09</td>\n",
       "      <td>7.796951e+08</td>\n",
       "      <td>259.898366</td>\n",
       "      <td>99925825.0</td>\n",
       "      <td>33.308608</td>\n",
       "    </tr>\n",
       "  </tbody>\n",
       "</table>\n",
       "</div>"
      ],
      "text/plain": [
       "   id  release_date                                        movie  \\\n",
       "0   1  Dec 18, 2009                                       Avatar   \n",
       "1   2  May 20, 2011  Pirates of the Caribbean: On Stranger Tides   \n",
       "2   3   Jun 7, 2019                                 Dark Phoenix   \n",
       "3   4   May 1, 2015                      Avengers: Age of Ultron   \n",
       "4   5  Dec 15, 2017            Star Wars Ep. VIII: The Last Jedi   \n",
       "5   6  Dec 18, 2015         Star Wars Ep. VII: The Force Awakens   \n",
       "6   7  Apr 27, 2018                       Avengers: Infinity War   \n",
       "7   8  May 24, 2007   Pirates of the Caribbean: At Worldâs End   \n",
       "8   9  Nov 17, 2017                               Justice League   \n",
       "9  10   Nov 6, 2015                                      Spectre   \n",
       "\n",
       "   production_budget  domestic_gross  worldwide_gross   total_gross  \\\n",
       "0        425000000.0     760507625.0     2.776345e+09  3.536853e+09   \n",
       "1        410600000.0     241063875.0     1.045664e+09  1.286728e+09   \n",
       "2        350000000.0      42762350.0     1.497624e+08  1.925247e+08   \n",
       "3        330600000.0     459005868.0     1.403014e+09  1.862020e+09   \n",
       "4        317000000.0     620181382.0     1.316722e+09  1.936903e+09   \n",
       "5        306000000.0     936662225.0     2.053311e+09  2.989973e+09   \n",
       "6        300000000.0     678815482.0     2.048134e+09  2.726950e+09   \n",
       "7        300000000.0     309420425.0     9.634204e+08  1.272841e+09   \n",
       "8        300000000.0     229024295.0     6.559452e+08  8.849695e+08   \n",
       "9        300000000.0     200074175.0     8.796209e+08  1.079695e+09   \n",
       "\n",
       "   total_margin_$  total_margin_%  domestic_margin_$  domestic_margin_%  \n",
       "0    3.111853e+09      732.200683       -335507625.0         -78.942971  \n",
       "1    8.761278e+08      213.377435        169536125.0          41.289850  \n",
       "2   -1.574753e+08      -44.992943        307237650.0          87.782186  \n",
       "3    1.531420e+09      463.224389       -128405868.0         -38.840250  \n",
       "4    1.619903e+09      511.010451       -303181382.0         -95.640815  \n",
       "5    2.683973e+09      877.115505       -630662225.0        -206.098766  \n",
       "6    2.426950e+09      808.983227       -378815482.0        -126.271827  \n",
       "7    9.728408e+08      324.280283         -9420425.0          -3.140142  \n",
       "8    5.849695e+08      194.989835         70975705.0          23.658568  \n",
       "9    7.796951e+08      259.898366         99925825.0          33.308608  "
      ]
     },
     "execution_count": 26,
     "metadata": {},
     "output_type": "execute_result"
    }
   ],
   "source": [
    "movie_budget.head(10)"
   ]
  },
  {
   "cell_type": "markdown",
   "metadata": {},
   "source": [
    "#### What does the correlation between production budget and total margin look like?"
   ]
  },
  {
   "cell_type": "code",
   "execution_count": 49,
   "metadata": {},
   "outputs": [
    {
     "data": {
      "text/plain": [
       "<matplotlib.collections.PathCollection at 0x7fc0de97fa90>"
      ]
     },
     "execution_count": 49,
     "metadata": {},
     "output_type": "execute_result"
    },
    {
     "data": {
      "image/png": "[encoded data removed]",
      "text/plain": [
       "<Figure size 864x432 with 1 Axes>"
      ]
     },
     "metadata": {
      "needs_background": "light"
     },
     "output_type": "display_data"
    }
   ],
   "source": [
    "fig, ax = plt.subplots(figsize=(12,6))\n",
    "x = movie_budget['production_budget']\n",
    "y = movie_budget['total_margin_$']\n",
    "\n",
    "\n",
    "ax.scatter(x,y)\n"
   ]
  },
  {
   "cell_type": "markdown",
   "metadata": {},
   "source": [
    "#### What's the central tendency of movie budgets look like?"
   ]
  },
  {
   "cell_type": "code",
   "execution_count": 54,
   "metadata": {},
   "outputs": [
    {
     "data": {
      "text/html": [
       "<div>\n",
       "<style scoped>\n",
       "    .dataframe tbody tr th:only-of-type {\n",
       "        vertical-align: middle;\n",
       "    }\n",
       "\n",
       "    .dataframe tbody tr th {\n",
       "        vertical-align: top;\n",
       "    }\n",
       "\n",
       "    .dataframe thead th {\n",
       "        text-align: right;\n",
       "    }\n",
       "</style>\n",
       "<table border=\"1\" class=\"dataframe\">\n",
       "  <thead>\n",
       "    <tr style=\"text-align: right;\">\n",
       "      <th></th>\n",
       "      <th>id</th>\n",
       "      <th>production_budget</th>\n",
       "      <th>domestic_gross</th>\n",
       "      <th>worldwide_gross</th>\n",
       "      <th>total_gross</th>\n",
       "      <th>total_margin_$</th>\n",
       "      <th>total_margin_%</th>\n",
       "      <th>domestic_margin_$</th>\n",
       "      <th>domestic_margin_%</th>\n",
       "    </tr>\n",
       "  </thead>\n",
       "  <tbody>\n",
       "    <tr>\n",
       "      <th>count</th>\n",
       "      <td>5782.000000</td>\n",
       "      <td>5.782000e+03</td>\n",
       "      <td>5.782000e+03</td>\n",
       "      <td>5.782000e+03</td>\n",
       "      <td>5.782000e+03</td>\n",
       "      <td>5.782000e+03</td>\n",
       "      <td>5782.000000</td>\n",
       "      <td>5.782000e+03</td>\n",
       "      <td>5782.000000</td>\n",
       "    </tr>\n",
       "    <tr>\n",
       "      <th>mean</th>\n",
       "      <td>50.372363</td>\n",
       "      <td>3.158776e+07</td>\n",
       "      <td>4.187333e+07</td>\n",
       "      <td>9.148746e+07</td>\n",
       "      <td>1.333608e+08</td>\n",
       "      <td>1.017730e+08</td>\n",
       "      <td>678.370158</td>\n",
       "      <td>-1.028557e+07</td>\n",
       "      <td>-198.354021</td>\n",
       "    </tr>\n",
       "    <tr>\n",
       "      <th>std</th>\n",
       "      <td>28.821076</td>\n",
       "      <td>4.181208e+07</td>\n",
       "      <td>6.824060e+07</td>\n",
       "      <td>1.747200e+08</td>\n",
       "      <td>2.399411e+08</td>\n",
       "      <td>2.108880e+08</td>\n",
       "      <td>5492.209049</td>\n",
       "      <td>4.992137e+07</td>\n",
       "      <td>2608.659060</td>\n",
       "    </tr>\n",
       "    <tr>\n",
       "      <th>min</th>\n",
       "      <td>1.000000</td>\n",
       "      <td>1.100000e+03</td>\n",
       "      <td>0.000000e+00</td>\n",
       "      <td>0.000000e+00</td>\n",
       "      <td>0.000000e+00</td>\n",
       "      <td>-1.574753e+08</td>\n",
       "      <td>-100.000000</td>\n",
       "      <td>-6.306622e+08</td>\n",
       "      <td>-179900.000000</td>\n",
       "    </tr>\n",
       "    <tr>\n",
       "      <th>25%</th>\n",
       "      <td>25.000000</td>\n",
       "      <td>5.000000e+06</td>\n",
       "      <td>1.429534e+06</td>\n",
       "      <td>4.125415e+06</td>\n",
       "      <td>6.448924e+06</td>\n",
       "      <td>-3.098222e+05</td>\n",
       "      <td>-20.287843</td>\n",
       "      <td>-1.778144e+07</td>\n",
       "      <td>-105.814816</td>\n",
       "    </tr>\n",
       "    <tr>\n",
       "      <th>50%</th>\n",
       "      <td>50.000000</td>\n",
       "      <td>1.700000e+07</td>\n",
       "      <td>1.722594e+07</td>\n",
       "      <td>2.798445e+07</td>\n",
       "      <td>4.605855e+07</td>\n",
       "      <td>2.499538e+07</td>\n",
       "      <td>165.931482</td>\n",
       "      <td>3.487755e+05</td>\n",
       "      <td>12.167378</td>\n",
       "    </tr>\n",
       "    <tr>\n",
       "      <th>75%</th>\n",
       "      <td>75.000000</td>\n",
       "      <td>4.000000e+07</td>\n",
       "      <td>5.234866e+07</td>\n",
       "      <td>9.764584e+07</td>\n",
       "      <td>1.506937e+08</td>\n",
       "      <td>1.111648e+08</td>\n",
       "      <td>489.317031</td>\n",
       "      <td>9.132757e+06</td>\n",
       "      <td>79.436711</td>\n",
       "    </tr>\n",
       "    <tr>\n",
       "      <th>max</th>\n",
       "      <td>100.000000</td>\n",
       "      <td>4.250000e+08</td>\n",
       "      <td>9.366622e+08</td>\n",
       "      <td>2.776345e+09</td>\n",
       "      <td>3.536853e+09</td>\n",
       "      <td>3.111853e+09</td>\n",
       "      <td>359900.000000</td>\n",
       "      <td>3.072376e+08</td>\n",
       "      <td>100.000000</td>\n",
       "    </tr>\n",
       "  </tbody>\n",
       "</table>\n",
       "</div>"
      ],
      "text/plain": [
       "                id  production_budget  domestic_gross  worldwide_gross  \\\n",
       "count  5782.000000       5.782000e+03    5.782000e+03     5.782000e+03   \n",
       "mean     50.372363       3.158776e+07    4.187333e+07     9.148746e+07   \n",
       "std      28.821076       4.181208e+07    6.824060e+07     1.747200e+08   \n",
       "min       1.000000       1.100000e+03    0.000000e+00     0.000000e+00   \n",
       "25%      25.000000       5.000000e+06    1.429534e+06     4.125415e+06   \n",
       "50%      50.000000       1.700000e+07    1.722594e+07     2.798445e+07   \n",
       "75%      75.000000       4.000000e+07    5.234866e+07     9.764584e+07   \n",
       "max     100.000000       4.250000e+08    9.366622e+08     2.776345e+09   \n",
       "\n",
       "        total_gross  total_margin_$  total_margin_%  domestic_margin_$  \\\n",
       "count  5.782000e+03    5.782000e+03     5782.000000       5.782000e+03   \n",
       "mean   1.333608e+08    1.017730e+08      678.370158      -1.028557e+07   \n",
       "std    2.399411e+08    2.108880e+08     5492.209049       4.992137e+07   \n",
       "min    0.000000e+00   -1.574753e+08     -100.000000      -6.306622e+08   \n",
       "25%    6.448924e+06   -3.098222e+05      -20.287843      -1.778144e+07   \n",
       "50%    4.605855e+07    2.499538e+07      165.931482       3.487755e+05   \n",
       "75%    1.506937e+08    1.111648e+08      489.317031       9.132757e+06   \n",
       "max    3.536853e+09    3.111853e+09   359900.000000       3.072376e+08   \n",
       "\n",
       "       domestic_margin_%  \n",
       "count        5782.000000  \n",
       "mean         -198.354021  \n",
       "std          2608.659060  \n",
       "min       -179900.000000  \n",
       "25%          -105.814816  \n",
       "50%            12.167378  \n",
       "75%            79.436711  \n",
       "max           100.000000  "
      ]
     },
     "execution_count": 54,
     "metadata": {},
     "output_type": "execute_result"
    }
   ],
   "source": [
    "movie_budget.describe()"
   ]
  },
  {
   "cell_type": "markdown",
   "metadata": {},
   "source": [
    "### Deep Dive into Genres - Over the Years "
   ]
  },
  {
   "cell_type": "code",
   "execution_count": 71,
   "metadata": {},
   "outputs": [
    {
     "data": {
      "text/html": [
       "<div>\n",
       "<style scoped>\n",
       "    .dataframe tbody tr th:only-of-type {\n",
       "        vertical-align: middle;\n",
       "    }\n",
       "\n",
       "    .dataframe tbody tr th {\n",
       "        vertical-align: top;\n",
       "    }\n",
       "\n",
       "    .dataframe thead th {\n",
       "        text-align: right;\n",
       "    }\n",
       "</style>\n",
       "<table border=\"1\" class=\"dataframe\">\n",
       "  <thead>\n",
       "    <tr style=\"text-align: right;\">\n",
       "      <th></th>\n",
       "      <th>genres</th>\n",
       "    </tr>\n",
       "  </thead>\n",
       "  <tbody>\n",
       "    <tr>\n",
       "      <th>Drama</th>\n",
       "      <td>11612</td>\n",
       "    </tr>\n",
       "    <tr>\n",
       "      <th>Documentary</th>\n",
       "      <td>10313</td>\n",
       "    </tr>\n",
       "    <tr>\n",
       "      <th>Comedy</th>\n",
       "      <td>5613</td>\n",
       "    </tr>\n",
       "    <tr>\n",
       "      <th>Horror</th>\n",
       "      <td>2692</td>\n",
       "    </tr>\n",
       "    <tr>\n",
       "      <th>Comedy,Drama</th>\n",
       "      <td>2617</td>\n",
       "    </tr>\n",
       "    <tr>\n",
       "      <th>Thriller</th>\n",
       "      <td>1555</td>\n",
       "    </tr>\n",
       "    <tr>\n",
       "      <th>Drama,Romance</th>\n",
       "      <td>1510</td>\n",
       "    </tr>\n",
       "    <tr>\n",
       "      <th>Comedy,Romance</th>\n",
       "      <td>1236</td>\n",
       "    </tr>\n",
       "    <tr>\n",
       "      <th>Comedy,Drama,Romance</th>\n",
       "      <td>1208</td>\n",
       "    </tr>\n",
       "    <tr>\n",
       "      <th>Horror,Thriller</th>\n",
       "      <td>1004</td>\n",
       "    </tr>\n",
       "  </tbody>\n",
       "</table>\n",
       "</div>"
      ],
      "text/plain": [
       "                      genres\n",
       "Drama                  11612\n",
       "Documentary            10313\n",
       "Comedy                  5613\n",
       "Horror                  2692\n",
       "Comedy,Drama            2617\n",
       "Thriller                1555\n",
       "Drama,Romance           1510\n",
       "Comedy,Romance          1236\n",
       "Comedy,Drama,Romance    1208\n",
       "Horror,Thriller         1004"
      ]
     },
     "execution_count": 71,
     "metadata": {},
     "output_type": "execute_result"
    }
   ],
   "source": [
    "genres = pd.DataFrame(movies_agg['genres'].value_counts())\n",
    "\n",
    "genres.head(10)"
   ]
  },
  {
   "cell_type": "code",
   "execution_count": 94,
   "metadata": {},
   "outputs": [
    {
     "data": {
      "text/plain": [
       "movie_id            0\n",
       "primary_title       0\n",
       "original_title      0\n",
       "genres            804\n",
       "start_year          0\n",
       "averagerating       0\n",
       "numvotes            0\n",
       "total_weight        0\n",
       "dtype: int64"
      ]
     },
     "execution_count": 94,
     "metadata": {},
     "output_type": "execute_result"
    }
   ],
   "source": [
    "movies_agg.isna().sum()"
   ]
  },
  {
   "cell_type": "code",
   "execution_count": 95,
   "metadata": {},
   "outputs": [],
   "source": [
    "## I'm replacing the missing genres with 'Unknown', since nulls represt only about 1% of total data"
   ]
  },
  {
   "cell_type": "code",
   "execution_count": 107,
   "metadata": {},
   "outputs": [
    {
     "data": {
      "text/plain": [
       "movie_id          0\n",
       "primary_title     0\n",
       "original_title    0\n",
       "genres            0\n",
       "start_year        0\n",
       "averagerating     0\n",
       "numvotes          0\n",
       "total_weight      0\n",
       "dtype: int64"
      ]
     },
     "execution_count": 107,
     "metadata": {},
     "output_type": "execute_result"
    }
   ],
   "source": [
    "movies_agg['genres'].fillna(\"Unkown\",inplace=True)\n",
    "movies_agg.isna().sum()"
   ]
  },
  {
   "cell_type": "code",
   "execution_count": 135,
   "metadata": {},
   "outputs": [],
   "source": [
    "movies_agg.drop(columns=['Genre_1','Genre1','Genre2','Genre3'],inplace=True)"
   ]
  },
  {
   "cell_type": "code",
   "execution_count": 136,
   "metadata": {},
   "outputs": [
    {
     "data": {
      "text/html": [
       "<div>\n",
       "<style scoped>\n",
       "    .dataframe tbody tr th:only-of-type {\n",
       "        vertical-align: middle;\n",
       "    }\n",
       "\n",
       "    .dataframe tbody tr th {\n",
       "        vertical-align: top;\n",
       "    }\n",
       "\n",
       "    .dataframe thead th {\n",
       "        text-align: right;\n",
       "    }\n",
       "</style>\n",
       "<table border=\"1\" class=\"dataframe\">\n",
       "  <thead>\n",
       "    <tr style=\"text-align: right;\">\n",
       "      <th></th>\n",
       "      <th>movie_id</th>\n",
       "      <th>primary_title</th>\n",
       "      <th>original_title</th>\n",
       "      <th>genres</th>\n",
       "      <th>start_year</th>\n",
       "      <th>averagerating</th>\n",
       "      <th>numvotes</th>\n",
       "      <th>total_weight</th>\n",
       "    </tr>\n",
       "  </thead>\n",
       "  <tbody>\n",
       "    <tr>\n",
       "      <th>0</th>\n",
       "      <td>tt1375666</td>\n",
       "      <td>Inception</td>\n",
       "      <td>Inception</td>\n",
       "      <td>Action,Adventure,Sci-Fi</td>\n",
       "      <td>2010</td>\n",
       "      <td>8.8</td>\n",
       "      <td>1841066</td>\n",
       "      <td>16201380.8</td>\n",
       "    </tr>\n",
       "    <tr>\n",
       "      <th>1</th>\n",
       "      <td>tt1345836</td>\n",
       "      <td>The Dark Knight Rises</td>\n",
       "      <td>The Dark Knight Rises</td>\n",
       "      <td>Action,Thriller</td>\n",
       "      <td>2012</td>\n",
       "      <td>8.4</td>\n",
       "      <td>1387769</td>\n",
       "      <td>11657259.6</td>\n",
       "    </tr>\n",
       "    <tr>\n",
       "      <th>2</th>\n",
       "      <td>tt0816692</td>\n",
       "      <td>Interstellar</td>\n",
       "      <td>Interstellar</td>\n",
       "      <td>Adventure,Drama,Sci-Fi</td>\n",
       "      <td>2014</td>\n",
       "      <td>8.6</td>\n",
       "      <td>1299334</td>\n",
       "      <td>11174272.4</td>\n",
       "    </tr>\n",
       "    <tr>\n",
       "      <th>3</th>\n",
       "      <td>tt1853728</td>\n",
       "      <td>Django Unchained</td>\n",
       "      <td>Django Unchained</td>\n",
       "      <td>Drama,Western</td>\n",
       "      <td>2012</td>\n",
       "      <td>8.4</td>\n",
       "      <td>1211405</td>\n",
       "      <td>10175802.0</td>\n",
       "    </tr>\n",
       "    <tr>\n",
       "      <th>4</th>\n",
       "      <td>tt0848228</td>\n",
       "      <td>The Avengers</td>\n",
       "      <td>The Avengers</td>\n",
       "      <td>Action,Adventure,Sci-Fi</td>\n",
       "      <td>2012</td>\n",
       "      <td>8.1</td>\n",
       "      <td>1183655</td>\n",
       "      <td>9587605.5</td>\n",
       "    </tr>\n",
       "  </tbody>\n",
       "</table>\n",
       "</div>"
      ],
      "text/plain": [
       "    movie_id          primary_title         original_title  \\\n",
       "0  tt1375666              Inception              Inception   \n",
       "1  tt1345836  The Dark Knight Rises  The Dark Knight Rises   \n",
       "2  tt0816692           Interstellar           Interstellar   \n",
       "3  tt1853728       Django Unchained       Django Unchained   \n",
       "4  tt0848228           The Avengers           The Avengers   \n",
       "\n",
       "                    genres  start_year  averagerating  numvotes  total_weight  \n",
       "0  Action,Adventure,Sci-Fi        2010            8.8   1841066    16201380.8  \n",
       "1          Action,Thriller        2012            8.4   1387769    11657259.6  \n",
       "2   Adventure,Drama,Sci-Fi        2014            8.6   1299334    11174272.4  \n",
       "3            Drama,Western        2012            8.4   1211405    10175802.0  \n",
       "4  Action,Adventure,Sci-Fi        2012            8.1   1183655     9587605.5  "
      ]
     },
     "execution_count": 136,
     "metadata": {},
     "output_type": "execute_result"
    }
   ],
   "source": [
    "movies_agg.head()"
   ]
  },
  {
   "cell_type": "code",
   "execution_count": 137,
   "metadata": {
    "scrolled": true
   },
   "outputs": [
    {
     "data": {
      "text/html": [
       "<div>\n",
       "<style scoped>\n",
       "    .dataframe tbody tr th:only-of-type {\n",
       "        vertical-align: middle;\n",
       "    }\n",
       "\n",
       "    .dataframe tbody tr th {\n",
       "        vertical-align: top;\n",
       "    }\n",
       "\n",
       "    .dataframe thead th {\n",
       "        text-align: right;\n",
       "    }\n",
       "</style>\n",
       "<table border=\"1\" class=\"dataframe\">\n",
       "  <thead>\n",
       "    <tr style=\"text-align: right;\">\n",
       "      <th></th>\n",
       "      <th>0</th>\n",
       "      <th>1</th>\n",
       "      <th>2</th>\n",
       "    </tr>\n",
       "  </thead>\n",
       "  <tbody>\n",
       "    <tr>\n",
       "      <th>0</th>\n",
       "      <td>Action</td>\n",
       "      <td>Adventure</td>\n",
       "      <td>Sci-Fi</td>\n",
       "    </tr>\n",
       "    <tr>\n",
       "      <th>1</th>\n",
       "      <td>Action</td>\n",
       "      <td>Thriller</td>\n",
       "      <td>None</td>\n",
       "    </tr>\n",
       "    <tr>\n",
       "      <th>2</th>\n",
       "      <td>Adventure</td>\n",
       "      <td>Drama</td>\n",
       "      <td>Sci-Fi</td>\n",
       "    </tr>\n",
       "    <tr>\n",
       "      <th>3</th>\n",
       "      <td>Drama</td>\n",
       "      <td>Western</td>\n",
       "      <td>None</td>\n",
       "    </tr>\n",
       "    <tr>\n",
       "      <th>4</th>\n",
       "      <td>Action</td>\n",
       "      <td>Adventure</td>\n",
       "      <td>Sci-Fi</td>\n",
       "    </tr>\n",
       "    <tr>\n",
       "      <th>...</th>\n",
       "      <td>...</td>\n",
       "      <td>...</td>\n",
       "      <td>...</td>\n",
       "    </tr>\n",
       "    <tr>\n",
       "      <th>73851</th>\n",
       "      <td>Comedy</td>\n",
       "      <td>None</td>\n",
       "      <td>None</td>\n",
       "    </tr>\n",
       "    <tr>\n",
       "      <th>73852</th>\n",
       "      <td>Comedy</td>\n",
       "      <td>None</td>\n",
       "      <td>None</td>\n",
       "    </tr>\n",
       "    <tr>\n",
       "      <th>73853</th>\n",
       "      <td>Comedy</td>\n",
       "      <td>None</td>\n",
       "      <td>None</td>\n",
       "    </tr>\n",
       "    <tr>\n",
       "      <th>73854</th>\n",
       "      <td>Animation</td>\n",
       "      <td>None</td>\n",
       "      <td>None</td>\n",
       "    </tr>\n",
       "    <tr>\n",
       "      <th>73855</th>\n",
       "      <td>Drama</td>\n",
       "      <td>None</td>\n",
       "      <td>None</td>\n",
       "    </tr>\n",
       "  </tbody>\n",
       "</table>\n",
       "<p>73856 rows × 3 columns</p>\n",
       "</div>"
      ],
      "text/plain": [
       "               0          1       2\n",
       "0         Action  Adventure  Sci-Fi\n",
       "1         Action   Thriller    None\n",
       "2      Adventure      Drama  Sci-Fi\n",
       "3          Drama    Western    None\n",
       "4         Action  Adventure  Sci-Fi\n",
       "...          ...        ...     ...\n",
       "73851     Comedy       None    None\n",
       "73852     Comedy       None    None\n",
       "73853     Comedy       None    None\n",
       "73854  Animation       None    None\n",
       "73855      Drama       None    None\n",
       "\n",
       "[73856 rows x 3 columns]"
      ]
     },
     "execution_count": 137,
     "metadata": {},
     "output_type": "execute_result"
    }
   ],
   "source": [
    "movies_agg['genres'].str.split(',',expand=True)"
   ]
  },
  {
   "cell_type": "code",
   "execution_count": 138,
   "metadata": {},
   "outputs": [
    {
     "data": {
      "text/html": [
       "<div>\n",
       "<style scoped>\n",
       "    .dataframe tbody tr th:only-of-type {\n",
       "        vertical-align: middle;\n",
       "    }\n",
       "\n",
       "    .dataframe tbody tr th {\n",
       "        vertical-align: top;\n",
       "    }\n",
       "\n",
       "    .dataframe thead th {\n",
       "        text-align: right;\n",
       "    }\n",
       "</style>\n",
       "<table border=\"1\" class=\"dataframe\">\n",
       "  <thead>\n",
       "    <tr style=\"text-align: right;\">\n",
       "      <th></th>\n",
       "      <th>movie_id</th>\n",
       "      <th>primary_title</th>\n",
       "      <th>original_title</th>\n",
       "      <th>genres</th>\n",
       "      <th>start_year</th>\n",
       "      <th>averagerating</th>\n",
       "      <th>numvotes</th>\n",
       "      <th>total_weight</th>\n",
       "    </tr>\n",
       "  </thead>\n",
       "  <tbody>\n",
       "    <tr>\n",
       "      <th>0</th>\n",
       "      <td>tt1375666</td>\n",
       "      <td>Inception</td>\n",
       "      <td>Inception</td>\n",
       "      <td>Action,Adventure,Sci-Fi</td>\n",
       "      <td>2010</td>\n",
       "      <td>8.8</td>\n",
       "      <td>1841066</td>\n",
       "      <td>16201380.8</td>\n",
       "    </tr>\n",
       "    <tr>\n",
       "      <th>1</th>\n",
       "      <td>tt1345836</td>\n",
       "      <td>The Dark Knight Rises</td>\n",
       "      <td>The Dark Knight Rises</td>\n",
       "      <td>Action,Thriller</td>\n",
       "      <td>2012</td>\n",
       "      <td>8.4</td>\n",
       "      <td>1387769</td>\n",
       "      <td>11657259.6</td>\n",
       "    </tr>\n",
       "    <tr>\n",
       "      <th>2</th>\n",
       "      <td>tt0816692</td>\n",
       "      <td>Interstellar</td>\n",
       "      <td>Interstellar</td>\n",
       "      <td>Adventure,Drama,Sci-Fi</td>\n",
       "      <td>2014</td>\n",
       "      <td>8.6</td>\n",
       "      <td>1299334</td>\n",
       "      <td>11174272.4</td>\n",
       "    </tr>\n",
       "    <tr>\n",
       "      <th>3</th>\n",
       "      <td>tt1853728</td>\n",
       "      <td>Django Unchained</td>\n",
       "      <td>Django Unchained</td>\n",
       "      <td>Drama,Western</td>\n",
       "      <td>2012</td>\n",
       "      <td>8.4</td>\n",
       "      <td>1211405</td>\n",
       "      <td>10175802.0</td>\n",
       "    </tr>\n",
       "    <tr>\n",
       "      <th>4</th>\n",
       "      <td>tt0848228</td>\n",
       "      <td>The Avengers</td>\n",
       "      <td>The Avengers</td>\n",
       "      <td>Action,Adventure,Sci-Fi</td>\n",
       "      <td>2012</td>\n",
       "      <td>8.1</td>\n",
       "      <td>1183655</td>\n",
       "      <td>9587605.5</td>\n",
       "    </tr>\n",
       "    <tr>\n",
       "      <th>...</th>\n",
       "      <td>...</td>\n",
       "      <td>...</td>\n",
       "      <td>...</td>\n",
       "      <td>...</td>\n",
       "      <td>...</td>\n",
       "      <td>...</td>\n",
       "      <td>...</td>\n",
       "      <td>...</td>\n",
       "    </tr>\n",
       "    <tr>\n",
       "      <th>73851</th>\n",
       "      <td>tt9366716</td>\n",
       "      <td>DaGram</td>\n",
       "      <td>DaGram</td>\n",
       "      <td>Comedy</td>\n",
       "      <td>2018</td>\n",
       "      <td>1.2</td>\n",
       "      <td>5</td>\n",
       "      <td>6.0</td>\n",
       "    </tr>\n",
       "    <tr>\n",
       "      <th>73852</th>\n",
       "      <td>tt2447822</td>\n",
       "      <td>Momok jangan cari pasal!</td>\n",
       "      <td>Momok jangan cari pasal!</td>\n",
       "      <td>Comedy</td>\n",
       "      <td>2012</td>\n",
       "      <td>1.0</td>\n",
       "      <td>5</td>\n",
       "      <td>5.0</td>\n",
       "    </tr>\n",
       "    <tr>\n",
       "      <th>73853</th>\n",
       "      <td>tt6792126</td>\n",
       "      <td>Jak se mori revizori</td>\n",
       "      <td>Jak se mori revizori</td>\n",
       "      <td>Comedy</td>\n",
       "      <td>2018</td>\n",
       "      <td>1.0</td>\n",
       "      <td>5</td>\n",
       "      <td>5.0</td>\n",
       "    </tr>\n",
       "    <tr>\n",
       "      <th>73854</th>\n",
       "      <td>tt8426154</td>\n",
       "      <td>Pup Scouts</td>\n",
       "      <td>Pup Scouts</td>\n",
       "      <td>Animation</td>\n",
       "      <td>2018</td>\n",
       "      <td>1.0</td>\n",
       "      <td>5</td>\n",
       "      <td>5.0</td>\n",
       "    </tr>\n",
       "    <tr>\n",
       "      <th>73855</th>\n",
       "      <td>tt8446392</td>\n",
       "      <td>La Scelta Impossibile</td>\n",
       "      <td>La Scelta Impossibile</td>\n",
       "      <td>Drama</td>\n",
       "      <td>2018</td>\n",
       "      <td>1.0</td>\n",
       "      <td>5</td>\n",
       "      <td>5.0</td>\n",
       "    </tr>\n",
       "  </tbody>\n",
       "</table>\n",
       "<p>73856 rows × 8 columns</p>\n",
       "</div>"
      ],
      "text/plain": [
       "        movie_id             primary_title            original_title  \\\n",
       "0      tt1375666                 Inception                 Inception   \n",
       "1      tt1345836     The Dark Knight Rises     The Dark Knight Rises   \n",
       "2      tt0816692              Interstellar              Interstellar   \n",
       "3      tt1853728          Django Unchained          Django Unchained   \n",
       "4      tt0848228              The Avengers              The Avengers   \n",
       "...          ...                       ...                       ...   \n",
       "73851  tt9366716                    DaGram                    DaGram   \n",
       "73852  tt2447822  Momok jangan cari pasal!  Momok jangan cari pasal!   \n",
       "73853  tt6792126      Jak se mori revizori      Jak se mori revizori   \n",
       "73854  tt8426154                Pup Scouts                Pup Scouts   \n",
       "73855  tt8446392     La Scelta Impossibile     La Scelta Impossibile   \n",
       "\n",
       "                        genres  start_year  averagerating  numvotes  \\\n",
       "0      Action,Adventure,Sci-Fi        2010            8.8   1841066   \n",
       "1              Action,Thriller        2012            8.4   1387769   \n",
       "2       Adventure,Drama,Sci-Fi        2014            8.6   1299334   \n",
       "3                Drama,Western        2012            8.4   1211405   \n",
       "4      Action,Adventure,Sci-Fi        2012            8.1   1183655   \n",
       "...                        ...         ...            ...       ...   \n",
       "73851                   Comedy        2018            1.2         5   \n",
       "73852                   Comedy        2012            1.0         5   \n",
       "73853                   Comedy        2018            1.0         5   \n",
       "73854                Animation        2018            1.0         5   \n",
       "73855                    Drama        2018            1.0         5   \n",
       "\n",
       "       total_weight  \n",
       "0        16201380.8  \n",
       "1        11657259.6  \n",
       "2        11174272.4  \n",
       "3        10175802.0  \n",
       "4         9587605.5  \n",
       "...             ...  \n",
       "73851           6.0  \n",
       "73852           5.0  \n",
       "73853           5.0  \n",
       "73854           5.0  \n",
       "73855           5.0  \n",
       "\n",
       "[73856 rows x 8 columns]"
      ]
     },
     "execution_count": 138,
     "metadata": {},
     "output_type": "execute_result"
    }
   ],
   "source": [
    "movies_agg"
   ]
  },
  {
   "cell_type": "code",
   "execution_count": null,
   "metadata": {},
   "outputs": [],
   "source": [
    "movies_agg[['Genre_1','Genre_2','Genre_3']] = movies_agg['genres'].str.split(',',expand=True)\n",
    "movies_agg.head(10)"
   ]
  },
  {
   "cell_type": "code",
   "execution_count": 149,
   "metadata": {},
   "outputs": [
    {
     "name": "stdout",
     "output_type": "stream",
     "text": [
      "<class 'pandas.core.frame.DataFrame'>\n",
      "RangeIndex: 73856 entries, 0 to 73855\n",
      "Data columns (total 11 columns):\n",
      " #   Column          Non-Null Count  Dtype  \n",
      "---  ------          --------------  -----  \n",
      " 0   movie_id        73856 non-null  object \n",
      " 1   primary_title   73856 non-null  object \n",
      " 2   original_title  73856 non-null  object \n",
      " 3   genres          73856 non-null  object \n",
      " 4   start_year      73856 non-null  int64  \n",
      " 5   averagerating   73856 non-null  float64\n",
      " 6   numvotes        73856 non-null  int64  \n",
      " 7   total_weight    73856 non-null  float64\n",
      " 8   Genre_1         73856 non-null  object \n",
      " 9   Genre_2         73856 non-null  object \n",
      " 10  Genre_3         73856 non-null  object \n",
      "dtypes: float64(2), int64(2), object(7)\n",
      "memory usage: 6.2+ MB\n"
     ]
    }
   ],
   "source": [
    "movies_agg['Genre_2'].fillna('N/A',inplace=True)\n",
    "movies_agg['Genre_3'].fillna('N/A',inplace=True)\n",
    "movies_agg.info()"
   ]
  },
  {
   "cell_type": "markdown",
   "metadata": {},
   "source": [
    "## Combine movies_agg with movie_budgets"
   ]
  },
  {
   "cell_type": "markdown",
   "metadata": {},
   "source": [
    "#### Cleaning titles from movie_agg"
   ]
  },
  {
   "cell_type": "code",
   "execution_count": 177,
   "metadata": {},
   "outputs": [
    {
     "name": "stdout",
     "output_type": "stream",
     "text": [
      "!\"#$%&'()*+,-./:;<=>?@[\\]^_`{|}~\n"
     ]
    }
   ],
   "source": [
    "import string\n",
    "print(string.punctuation)"
   ]
  },
  {
   "cell_type": "code",
   "execution_count": 178,
   "metadata": {},
   "outputs": [],
   "source": [
    "def remove_punctuation(text):\n",
    "    for punctuation in string.punctuation:\n",
    "        text = text.replace(punctuation,'')\n",
    "    return text"
   ]
  },
  {
   "cell_type": "code",
   "execution_count": 179,
   "metadata": {},
   "outputs": [],
   "source": [
    "movies_agg['clean_title'] = movies_agg['primary_title'].apply(remove_punctuation)"
   ]
  },
  {
   "cell_type": "code",
   "execution_count": 182,
   "metadata": {},
   "outputs": [],
   "source": [
    "movies_agg['clean_title'] = movies_agg['clean_title'].map(lambda x: x.lower())"
   ]
  },
  {
   "cell_type": "code",
   "execution_count": 192,
   "metadata": {},
   "outputs": [],
   "source": [
    "movies_agg['clean_title'] = movies_agg['clean_title'].map(lambda x: x.replace(' ',''))"
   ]
  },
  {
   "cell_type": "code",
   "execution_count": 194,
   "metadata": {},
   "outputs": [],
   "source": [
    "movies_agg['clean_title_2'] = movies_agg['original_title'].apply(remove_punctuation)\n",
    "movies_agg['clean_title_2'] = movies_agg['clean_title_2'].map(lambda x: x.lower())\n",
    "movies_agg['clean_title_2'] = movies_agg['clean_title_2'].map(lambda x: x.replace(' ',''))"
   ]
  },
  {
   "cell_type": "code",
   "execution_count": 195,
   "metadata": {},
   "outputs": [
    {
     "data": {
      "text/html": [
       "<div>\n",
       "<style scoped>\n",
       "    .dataframe tbody tr th:only-of-type {\n",
       "        vertical-align: middle;\n",
       "    }\n",
       "\n",
       "    .dataframe tbody tr th {\n",
       "        vertical-align: top;\n",
       "    }\n",
       "\n",
       "    .dataframe thead th {\n",
       "        text-align: right;\n",
       "    }\n",
       "</style>\n",
       "<table border=\"1\" class=\"dataframe\">\n",
       "  <thead>\n",
       "    <tr style=\"text-align: right;\">\n",
       "      <th></th>\n",
       "      <th>movie_id</th>\n",
       "      <th>primary_title</th>\n",
       "      <th>original_title</th>\n",
       "      <th>genres</th>\n",
       "      <th>start_year</th>\n",
       "      <th>averagerating</th>\n",
       "      <th>numvotes</th>\n",
       "      <th>total_weight</th>\n",
       "      <th>Genre_1</th>\n",
       "      <th>Genre_2</th>\n",
       "      <th>Genre_3</th>\n",
       "      <th>clean_title</th>\n",
       "      <th>clean_title_2</th>\n",
       "    </tr>\n",
       "  </thead>\n",
       "  <tbody>\n",
       "    <tr>\n",
       "      <th>0</th>\n",
       "      <td>tt1375666</td>\n",
       "      <td>Inception</td>\n",
       "      <td>Inception</td>\n",
       "      <td>Action,Adventure,Sci-Fi</td>\n",
       "      <td>2010</td>\n",
       "      <td>8.8</td>\n",
       "      <td>1841066</td>\n",
       "      <td>16201380.8</td>\n",
       "      <td>Action</td>\n",
       "      <td>Adventure</td>\n",
       "      <td>Sci-Fi</td>\n",
       "      <td>inception</td>\n",
       "      <td>inception</td>\n",
       "    </tr>\n",
       "    <tr>\n",
       "      <th>1</th>\n",
       "      <td>tt1345836</td>\n",
       "      <td>The Dark Knight Rises</td>\n",
       "      <td>The Dark Knight Rises</td>\n",
       "      <td>Action,Thriller</td>\n",
       "      <td>2012</td>\n",
       "      <td>8.4</td>\n",
       "      <td>1387769</td>\n",
       "      <td>11657259.6</td>\n",
       "      <td>Action</td>\n",
       "      <td>Thriller</td>\n",
       "      <td>N/A</td>\n",
       "      <td>thedarkknightrises</td>\n",
       "      <td>thedarkknightrises</td>\n",
       "    </tr>\n",
       "    <tr>\n",
       "      <th>2</th>\n",
       "      <td>tt0816692</td>\n",
       "      <td>Interstellar</td>\n",
       "      <td>Interstellar</td>\n",
       "      <td>Adventure,Drama,Sci-Fi</td>\n",
       "      <td>2014</td>\n",
       "      <td>8.6</td>\n",
       "      <td>1299334</td>\n",
       "      <td>11174272.4</td>\n",
       "      <td>Adventure</td>\n",
       "      <td>Drama</td>\n",
       "      <td>Sci-Fi</td>\n",
       "      <td>interstellar</td>\n",
       "      <td>interstellar</td>\n",
       "    </tr>\n",
       "    <tr>\n",
       "      <th>3</th>\n",
       "      <td>tt1853728</td>\n",
       "      <td>Django Unchained</td>\n",
       "      <td>Django Unchained</td>\n",
       "      <td>Drama,Western</td>\n",
       "      <td>2012</td>\n",
       "      <td>8.4</td>\n",
       "      <td>1211405</td>\n",
       "      <td>10175802.0</td>\n",
       "      <td>Drama</td>\n",
       "      <td>Western</td>\n",
       "      <td>N/A</td>\n",
       "      <td>djangounchained</td>\n",
       "      <td>djangounchained</td>\n",
       "    </tr>\n",
       "    <tr>\n",
       "      <th>4</th>\n",
       "      <td>tt0848228</td>\n",
       "      <td>The Avengers</td>\n",
       "      <td>The Avengers</td>\n",
       "      <td>Action,Adventure,Sci-Fi</td>\n",
       "      <td>2012</td>\n",
       "      <td>8.1</td>\n",
       "      <td>1183655</td>\n",
       "      <td>9587605.5</td>\n",
       "      <td>Action</td>\n",
       "      <td>Adventure</td>\n",
       "      <td>Sci-Fi</td>\n",
       "      <td>theavengers</td>\n",
       "      <td>theavengers</td>\n",
       "    </tr>\n",
       "  </tbody>\n",
       "</table>\n",
       "</div>"
      ],
      "text/plain": [
       "    movie_id          primary_title         original_title  \\\n",
       "0  tt1375666              Inception              Inception   \n",
       "1  tt1345836  The Dark Knight Rises  The Dark Knight Rises   \n",
       "2  tt0816692           Interstellar           Interstellar   \n",
       "3  tt1853728       Django Unchained       Django Unchained   \n",
       "4  tt0848228           The Avengers           The Avengers   \n",
       "\n",
       "                    genres  start_year  averagerating  numvotes  total_weight  \\\n",
       "0  Action,Adventure,Sci-Fi        2010            8.8   1841066    16201380.8   \n",
       "1          Action,Thriller        2012            8.4   1387769    11657259.6   \n",
       "2   Adventure,Drama,Sci-Fi        2014            8.6   1299334    11174272.4   \n",
       "3            Drama,Western        2012            8.4   1211405    10175802.0   \n",
       "4  Action,Adventure,Sci-Fi        2012            8.1   1183655     9587605.5   \n",
       "\n",
       "     Genre_1    Genre_2 Genre_3         clean_title       clean_title_2  \n",
       "0     Action  Adventure  Sci-Fi           inception           inception  \n",
       "1     Action   Thriller     N/A  thedarkknightrises  thedarkknightrises  \n",
       "2  Adventure      Drama  Sci-Fi        interstellar        interstellar  \n",
       "3      Drama    Western     N/A     djangounchained     djangounchained  \n",
       "4     Action  Adventure  Sci-Fi         theavengers         theavengers  "
      ]
     },
     "execution_count": 195,
     "metadata": {},
     "output_type": "execute_result"
    }
   ],
   "source": [
    "movies_agg.head()"
   ]
  },
  {
   "cell_type": "code",
   "execution_count": 197,
   "metadata": {},
   "outputs": [
    {
     "data": {
      "text/plain": [
       "movie_id          73856\n",
       "primary_title     69993\n",
       "original_title    71097\n",
       "genres              924\n",
       "start_year           10\n",
       "averagerating        91\n",
       "numvotes           7349\n",
       "total_weight      22449\n",
       "Genre_1              26\n",
       "Genre_2              26\n",
       "Genre_3              22\n",
       "clean_title       69643\n",
       "clean_title_2     70804\n",
       "dtype: int64"
      ]
     },
     "execution_count": 197,
     "metadata": {},
     "output_type": "execute_result"
    }
   ],
   "source": [
    "movies_agg.nunique()"
   ]
  },
  {
   "cell_type": "markdown",
   "metadata": {},
   "source": [
    "## Setting up unique column for join to movie_budgets"
   ]
  },
  {
   "cell_type": "code",
   "execution_count": 199,
   "metadata": {},
   "outputs": [],
   "source": [
    "movies_agg['year_title'] = movies_agg['start_year'].astype(str) + movies_agg['clean_title_2']"
   ]
  },
  {
   "cell_type": "code",
   "execution_count": 200,
   "metadata": {},
   "outputs": [
    {
     "data": {
      "text/plain": [
       "movie_id          73856\n",
       "primary_title     69993\n",
       "original_title    71097\n",
       "genres              924\n",
       "start_year           10\n",
       "averagerating        91\n",
       "numvotes           7349\n",
       "total_weight      22449\n",
       "Genre_1              26\n",
       "Genre_2              26\n",
       "Genre_3              22\n",
       "clean_title       69643\n",
       "clean_title_2     70804\n",
       "year_title        73413\n",
       "dtype: int64"
      ]
     },
     "execution_count": 200,
     "metadata": {},
     "output_type": "execute_result"
    }
   ],
   "source": [
    "movies_agg.nunique()"
   ]
  },
  {
   "cell_type": "code",
   "execution_count": 203,
   "metadata": {},
   "outputs": [],
   "source": [
    "## Drop duplicates from year_title \n",
    "\n",
    "movies_agg.drop_duplicates(subset='year_title',inplace=True)"
   ]
  },
  {
   "cell_type": "code",
   "execution_count": 204,
   "metadata": {},
   "outputs": [
    {
     "data": {
      "text/plain": [
       "movie_id          73413\n",
       "primary_title     69932\n",
       "original_title    71061\n",
       "genres              922\n",
       "start_year           10\n",
       "averagerating        91\n",
       "numvotes           7348\n",
       "total_weight      22410\n",
       "Genre_1              26\n",
       "Genre_2              26\n",
       "Genre_3              22\n",
       "clean_title       69613\n",
       "clean_title_2     70804\n",
       "year_title        73413\n",
       "dtype: int64"
      ]
     },
     "execution_count": 204,
     "metadata": {},
     "output_type": "execute_result"
    }
   ],
   "source": [
    "movies_agg.nunique()"
   ]
  },
  {
   "cell_type": "code",
   "execution_count": 205,
   "metadata": {
    "scrolled": true
   },
   "outputs": [
    {
     "name": "stdout",
     "output_type": "stream",
     "text": [
      "<class 'pandas.core.frame.DataFrame'>\n",
      "Int64Index: 73413 entries, 0 to 73855\n",
      "Data columns (total 14 columns):\n",
      " #   Column          Non-Null Count  Dtype  \n",
      "---  ------          --------------  -----  \n",
      " 0   movie_id        73413 non-null  object \n",
      " 1   primary_title   73413 non-null  object \n",
      " 2   original_title  73413 non-null  object \n",
      " 3   genres          73413 non-null  object \n",
      " 4   start_year      73413 non-null  int64  \n",
      " 5   averagerating   73413 non-null  float64\n",
      " 6   numvotes        73413 non-null  int64  \n",
      " 7   total_weight    73413 non-null  float64\n",
      " 8   Genre_1         73413 non-null  object \n",
      " 9   Genre_2         73413 non-null  object \n",
      " 10  Genre_3         73413 non-null  object \n",
      " 11  clean_title     73413 non-null  object \n",
      " 12  clean_title_2   73413 non-null  object \n",
      " 13  year_title      73413 non-null  object \n",
      "dtypes: float64(2), int64(2), object(10)\n",
      "memory usage: 8.4+ MB\n"
     ]
    }
   ],
   "source": [
    "movies_agg.info()"
   ]
  },
  {
   "cell_type": "markdown",
   "metadata": {},
   "source": [
    "#### Cleaning movie_budget data for join"
   ]
  },
  {
   "cell_type": "code",
   "execution_count": 207,
   "metadata": {},
   "outputs": [
    {
     "name": "stdout",
     "output_type": "stream",
     "text": [
      "<class 'pandas.core.frame.DataFrame'>\n",
      "RangeIndex: 5782 entries, 0 to 5781\n",
      "Data columns (total 11 columns):\n",
      " #   Column             Non-Null Count  Dtype  \n",
      "---  ------             --------------  -----  \n",
      " 0   id                 5782 non-null   int64  \n",
      " 1   release_date       5782 non-null   object \n",
      " 2   movie              5782 non-null   object \n",
      " 3   production_budget  5782 non-null   float64\n",
      " 4   domestic_gross     5782 non-null   float64\n",
      " 5   worldwide_gross    5782 non-null   float64\n",
      " 6   total_gross        5782 non-null   float64\n",
      " 7   total_margin_$     5782 non-null   float64\n",
      " 8   total_margin_%     5782 non-null   float64\n",
      " 9   domestic_margin_$  5782 non-null   float64\n",
      " 10  domestic_margin_%  5782 non-null   float64\n",
      "dtypes: float64(8), int64(1), object(2)\n",
      "memory usage: 497.0+ KB\n"
     ]
    }
   ],
   "source": [
    "movie_budget.info()"
   ]
  },
  {
   "cell_type": "code",
   "execution_count": 209,
   "metadata": {},
   "outputs": [],
   "source": [
    "#Cleaning Titles\n",
    "movie_budget['clean_title'] = movie_budget['movie'].apply(remove_punctuation)\n",
    "movie_budget['clean_title'] = movie_budget['clean_title'].map(lambda x: x.lower())\n",
    "movie_budget['clean_title'] = movie_budget['clean_title'].map(lambda x: x.replace(' ',''))"
   ]
  },
  {
   "cell_type": "code",
   "execution_count": 228,
   "metadata": {},
   "outputs": [],
   "source": [
    "# movie_budget['release_date'].str.split(',')[0][1].strip()\n",
    "\n",
    "movie_budget['release_year'] = movie_budget['release_date'].map(lambda x: x.split(',')[1].strip() )\n"
   ]
  },
  {
   "cell_type": "code",
   "execution_count": 231,
   "metadata": {},
   "outputs": [],
   "source": [
    "movie_budget['year_title'] = movie_budget['release_year'] + movie_budget['clean_title']"
   ]
  },
  {
   "cell_type": "code",
   "execution_count": 232,
   "metadata": {},
   "outputs": [
    {
     "data": {
      "text/plain": [
       "id                    100\n",
       "release_date         2418\n",
       "movie                5698\n",
       "production_budget     509\n",
       "domestic_gross       5164\n",
       "worldwide_gross      5356\n",
       "total_gross          5363\n",
       "total_margin_$       5497\n",
       "total_margin_%       5402\n",
       "domestic_margin_$    5345\n",
       "domestic_margin_%    5216\n",
       "clean_title          5698\n",
       "year                    2\n",
       "release_year           96\n",
       "year_title           5781\n",
       "dtype: int64"
      ]
     },
     "execution_count": 232,
     "metadata": {},
     "output_type": "execute_result"
    }
   ],
   "source": [
    "movie_budget.nunique()"
   ]
  },
  {
   "cell_type": "markdown",
   "metadata": {},
   "source": [
    "### Joining movie_budget and movies_agg to create genre_budgets"
   ]
  },
  {
   "cell_type": "code",
   "execution_count": 280,
   "metadata": {},
   "outputs": [],
   "source": [
    "genre_budgets = movie_budget.merge(movies_agg,how='inner',left_on='clean_title',right_on='clean_title')"
   ]
  },
  {
   "cell_type": "code",
   "execution_count": 281,
   "metadata": {},
   "outputs": [
    {
     "name": "stdout",
     "output_type": "stream",
     "text": [
      "<class 'pandas.core.frame.DataFrame'>\n",
      "Int64Index: 2939 entries, 0 to 2938\n",
      "Data columns (total 28 columns):\n",
      " #   Column             Non-Null Count  Dtype  \n",
      "---  ------             --------------  -----  \n",
      " 0   id                 2939 non-null   int64  \n",
      " 1   release_date       2939 non-null   object \n",
      " 2   movie              2939 non-null   object \n",
      " 3   production_budget  2939 non-null   float64\n",
      " 4   domestic_gross     2939 non-null   float64\n",
      " 5   worldwide_gross    2939 non-null   float64\n",
      " 6   total_gross        2939 non-null   float64\n",
      " 7   total_margin_$     2939 non-null   float64\n",
      " 8   total_margin_%     2939 non-null   float64\n",
      " 9   domestic_margin_$  2939 non-null   float64\n",
      " 10  domestic_margin_%  2939 non-null   float64\n",
      " 11  clean_title        2939 non-null   object \n",
      " 12  year               2939 non-null   object \n",
      " 13  release_year       2939 non-null   object \n",
      " 14  year_title_x       2939 non-null   object \n",
      " 15  movie_id           2939 non-null   object \n",
      " 16  primary_title      2939 non-null   object \n",
      " 17  original_title     2939 non-null   object \n",
      " 18  genres             2939 non-null   object \n",
      " 19  start_year         2939 non-null   int64  \n",
      " 20  averagerating      2939 non-null   float64\n",
      " 21  numvotes           2939 non-null   int64  \n",
      " 22  total_weight       2939 non-null   float64\n",
      " 23  Genre_1            2939 non-null   object \n",
      " 24  Genre_2            2939 non-null   object \n",
      " 25  Genre_3            2939 non-null   object \n",
      " 26  clean_title_2      2939 non-null   object \n",
      " 27  year_title_y       2939 non-null   object \n",
      "dtypes: float64(10), int64(3), object(15)\n",
      "memory usage: 665.9+ KB\n"
     ]
    }
   ],
   "source": [
    "genre_budgets.info()"
   ]
  },
  {
   "cell_type": "code",
   "execution_count": 282,
   "metadata": {},
   "outputs": [
    {
     "data": {
      "text/html": [
       "<div>\n",
       "<style scoped>\n",
       "    .dataframe tbody tr th:only-of-type {\n",
       "        vertical-align: middle;\n",
       "    }\n",
       "\n",
       "    .dataframe tbody tr th {\n",
       "        vertical-align: top;\n",
       "    }\n",
       "\n",
       "    .dataframe thead th {\n",
       "        text-align: right;\n",
       "    }\n",
       "</style>\n",
       "<table border=\"1\" class=\"dataframe\">\n",
       "  <thead>\n",
       "    <tr style=\"text-align: right;\">\n",
       "      <th></th>\n",
       "      <th>id</th>\n",
       "      <th>release_date</th>\n",
       "      <th>movie</th>\n",
       "      <th>production_budget</th>\n",
       "      <th>domestic_gross</th>\n",
       "      <th>worldwide_gross</th>\n",
       "      <th>total_gross</th>\n",
       "      <th>total_margin_$</th>\n",
       "      <th>total_margin_%</th>\n",
       "      <th>domestic_margin_$</th>\n",
       "      <th>...</th>\n",
       "      <th>genres</th>\n",
       "      <th>start_year</th>\n",
       "      <th>averagerating</th>\n",
       "      <th>numvotes</th>\n",
       "      <th>total_weight</th>\n",
       "      <th>Genre_1</th>\n",
       "      <th>Genre_2</th>\n",
       "      <th>Genre_3</th>\n",
       "      <th>clean_title_2</th>\n",
       "      <th>year_title_y</th>\n",
       "    </tr>\n",
       "  </thead>\n",
       "  <tbody>\n",
       "    <tr>\n",
       "      <th>0</th>\n",
       "      <td>1</td>\n",
       "      <td>Dec 18, 2009</td>\n",
       "      <td>Avatar</td>\n",
       "      <td>425000000.0</td>\n",
       "      <td>760507625.0</td>\n",
       "      <td>2.776345e+09</td>\n",
       "      <td>3.536853e+09</td>\n",
       "      <td>3.111853e+09</td>\n",
       "      <td>732.200683</td>\n",
       "      <td>-335507625.0</td>\n",
       "      <td>...</td>\n",
       "      <td>Horror</td>\n",
       "      <td>2011</td>\n",
       "      <td>6.1</td>\n",
       "      <td>43</td>\n",
       "      <td>262.3</td>\n",
       "      <td>Horror</td>\n",
       "      <td>N/A</td>\n",
       "      <td>N/A</td>\n",
       "      <td>abatâ</td>\n",
       "      <td>2011abatâ</td>\n",
       "    </tr>\n",
       "    <tr>\n",
       "      <th>1</th>\n",
       "      <td>2</td>\n",
       "      <td>May 20, 2011</td>\n",
       "      <td>Pirates of the Caribbean: On Stranger Tides</td>\n",
       "      <td>410600000.0</td>\n",
       "      <td>241063875.0</td>\n",
       "      <td>1.045664e+09</td>\n",
       "      <td>1.286728e+09</td>\n",
       "      <td>8.761278e+08</td>\n",
       "      <td>213.377435</td>\n",
       "      <td>169536125.0</td>\n",
       "      <td>...</td>\n",
       "      <td>Action,Adventure,Fantasy</td>\n",
       "      <td>2011</td>\n",
       "      <td>6.6</td>\n",
       "      <td>447624</td>\n",
       "      <td>2954318.4</td>\n",
       "      <td>Action</td>\n",
       "      <td>Adventure</td>\n",
       "      <td>Fantasy</td>\n",
       "      <td>piratesofthecaribbeanonstrangertides</td>\n",
       "      <td>2011piratesofthecaribbeanonstrangertides</td>\n",
       "    </tr>\n",
       "    <tr>\n",
       "      <th>2</th>\n",
       "      <td>3</td>\n",
       "      <td>Jun 7, 2019</td>\n",
       "      <td>Dark Phoenix</td>\n",
       "      <td>350000000.0</td>\n",
       "      <td>42762350.0</td>\n",
       "      <td>1.497624e+08</td>\n",
       "      <td>1.925247e+08</td>\n",
       "      <td>-1.574753e+08</td>\n",
       "      <td>-44.992943</td>\n",
       "      <td>307237650.0</td>\n",
       "      <td>...</td>\n",
       "      <td>Action,Adventure,Sci-Fi</td>\n",
       "      <td>2019</td>\n",
       "      <td>6.0</td>\n",
       "      <td>24451</td>\n",
       "      <td>146706.0</td>\n",
       "      <td>Action</td>\n",
       "      <td>Adventure</td>\n",
       "      <td>Sci-Fi</td>\n",
       "      <td>darkphoenix</td>\n",
       "      <td>2019darkphoenix</td>\n",
       "    </tr>\n",
       "    <tr>\n",
       "      <th>3</th>\n",
       "      <td>4</td>\n",
       "      <td>May 1, 2015</td>\n",
       "      <td>Avengers: Age of Ultron</td>\n",
       "      <td>330600000.0</td>\n",
       "      <td>459005868.0</td>\n",
       "      <td>1.403014e+09</td>\n",
       "      <td>1.862020e+09</td>\n",
       "      <td>1.531420e+09</td>\n",
       "      <td>463.224389</td>\n",
       "      <td>-128405868.0</td>\n",
       "      <td>...</td>\n",
       "      <td>Action,Adventure,Sci-Fi</td>\n",
       "      <td>2015</td>\n",
       "      <td>7.3</td>\n",
       "      <td>665594</td>\n",
       "      <td>4858836.2</td>\n",
       "      <td>Action</td>\n",
       "      <td>Adventure</td>\n",
       "      <td>Sci-Fi</td>\n",
       "      <td>avengersageofultron</td>\n",
       "      <td>2015avengersageofultron</td>\n",
       "    </tr>\n",
       "    <tr>\n",
       "      <th>4</th>\n",
       "      <td>7</td>\n",
       "      <td>Apr 27, 2018</td>\n",
       "      <td>Avengers: Infinity War</td>\n",
       "      <td>300000000.0</td>\n",
       "      <td>678815482.0</td>\n",
       "      <td>2.048134e+09</td>\n",
       "      <td>2.726950e+09</td>\n",
       "      <td>2.426950e+09</td>\n",
       "      <td>808.983227</td>\n",
       "      <td>-378815482.0</td>\n",
       "      <td>...</td>\n",
       "      <td>Action,Adventure,Sci-Fi</td>\n",
       "      <td>2018</td>\n",
       "      <td>8.5</td>\n",
       "      <td>670926</td>\n",
       "      <td>5702871.0</td>\n",
       "      <td>Action</td>\n",
       "      <td>Adventure</td>\n",
       "      <td>Sci-Fi</td>\n",
       "      <td>avengersinfinitywar</td>\n",
       "      <td>2018avengersinfinitywar</td>\n",
       "    </tr>\n",
       "    <tr>\n",
       "      <th>5</th>\n",
       "      <td>9</td>\n",
       "      <td>Nov 17, 2017</td>\n",
       "      <td>Justice League</td>\n",
       "      <td>300000000.0</td>\n",
       "      <td>229024295.0</td>\n",
       "      <td>6.559452e+08</td>\n",
       "      <td>8.849695e+08</td>\n",
       "      <td>5.849695e+08</td>\n",
       "      <td>194.989835</td>\n",
       "      <td>70975705.0</td>\n",
       "      <td>...</td>\n",
       "      <td>Action,Adventure,Fantasy</td>\n",
       "      <td>2017</td>\n",
       "      <td>6.5</td>\n",
       "      <td>329135</td>\n",
       "      <td>2139377.5</td>\n",
       "      <td>Action</td>\n",
       "      <td>Adventure</td>\n",
       "      <td>Fantasy</td>\n",
       "      <td>justiceleague</td>\n",
       "      <td>2017justiceleague</td>\n",
       "    </tr>\n",
       "    <tr>\n",
       "      <th>6</th>\n",
       "      <td>10</td>\n",
       "      <td>Nov 6, 2015</td>\n",
       "      <td>Spectre</td>\n",
       "      <td>300000000.0</td>\n",
       "      <td>200074175.0</td>\n",
       "      <td>8.796209e+08</td>\n",
       "      <td>1.079695e+09</td>\n",
       "      <td>7.796951e+08</td>\n",
       "      <td>259.898366</td>\n",
       "      <td>99925825.0</td>\n",
       "      <td>...</td>\n",
       "      <td>Action,Adventure,Thriller</td>\n",
       "      <td>2015</td>\n",
       "      <td>6.8</td>\n",
       "      <td>352504</td>\n",
       "      <td>2397027.2</td>\n",
       "      <td>Action</td>\n",
       "      <td>Adventure</td>\n",
       "      <td>Thriller</td>\n",
       "      <td>spectre</td>\n",
       "      <td>2015spectre</td>\n",
       "    </tr>\n",
       "    <tr>\n",
       "      <th>7</th>\n",
       "      <td>11</td>\n",
       "      <td>Jul 20, 2012</td>\n",
       "      <td>The Dark Knight Rises</td>\n",
       "      <td>275000000.0</td>\n",
       "      <td>448139099.0</td>\n",
       "      <td>1.084439e+09</td>\n",
       "      <td>1.532578e+09</td>\n",
       "      <td>1.257578e+09</td>\n",
       "      <td>457.301163</td>\n",
       "      <td>-173139099.0</td>\n",
       "      <td>...</td>\n",
       "      <td>Action,Thriller</td>\n",
       "      <td>2012</td>\n",
       "      <td>8.4</td>\n",
       "      <td>1387769</td>\n",
       "      <td>11657259.6</td>\n",
       "      <td>Action</td>\n",
       "      <td>Thriller</td>\n",
       "      <td>N/A</td>\n",
       "      <td>thedarkknightrises</td>\n",
       "      <td>2012thedarkknightrises</td>\n",
       "    </tr>\n",
       "    <tr>\n",
       "      <th>8</th>\n",
       "      <td>12</td>\n",
       "      <td>May 25, 2018</td>\n",
       "      <td>Solo: A Star Wars Story</td>\n",
       "      <td>275000000.0</td>\n",
       "      <td>213767512.0</td>\n",
       "      <td>3.931513e+08</td>\n",
       "      <td>6.069189e+08</td>\n",
       "      <td>3.319189e+08</td>\n",
       "      <td>120.697767</td>\n",
       "      <td>61232488.0</td>\n",
       "      <td>...</td>\n",
       "      <td>Action,Adventure,Fantasy</td>\n",
       "      <td>2018</td>\n",
       "      <td>7.0</td>\n",
       "      <td>226243</td>\n",
       "      <td>1583701.0</td>\n",
       "      <td>Action</td>\n",
       "      <td>Adventure</td>\n",
       "      <td>Fantasy</td>\n",
       "      <td>soloastarwarsstory</td>\n",
       "      <td>2018soloastarwarsstory</td>\n",
       "    </tr>\n",
       "    <tr>\n",
       "      <th>9</th>\n",
       "      <td>13</td>\n",
       "      <td>Jul 2, 2013</td>\n",
       "      <td>The Lone Ranger</td>\n",
       "      <td>275000000.0</td>\n",
       "      <td>89302115.0</td>\n",
       "      <td>2.600021e+08</td>\n",
       "      <td>3.493042e+08</td>\n",
       "      <td>7.430423e+07</td>\n",
       "      <td>27.019720</td>\n",
       "      <td>185697885.0</td>\n",
       "      <td>...</td>\n",
       "      <td>Action,Adventure,Western</td>\n",
       "      <td>2013</td>\n",
       "      <td>6.4</td>\n",
       "      <td>208827</td>\n",
       "      <td>1336492.8</td>\n",
       "      <td>Action</td>\n",
       "      <td>Adventure</td>\n",
       "      <td>Western</td>\n",
       "      <td>theloneranger</td>\n",
       "      <td>2013theloneranger</td>\n",
       "    </tr>\n",
       "  </tbody>\n",
       "</table>\n",
       "<p>10 rows × 28 columns</p>\n",
       "</div>"
      ],
      "text/plain": [
       "   id  release_date                                        movie  \\\n",
       "0   1  Dec 18, 2009                                       Avatar   \n",
       "1   2  May 20, 2011  Pirates of the Caribbean: On Stranger Tides   \n",
       "2   3   Jun 7, 2019                                 Dark Phoenix   \n",
       "3   4   May 1, 2015                      Avengers: Age of Ultron   \n",
       "4   7  Apr 27, 2018                       Avengers: Infinity War   \n",
       "5   9  Nov 17, 2017                               Justice League   \n",
       "6  10   Nov 6, 2015                                      Spectre   \n",
       "7  11  Jul 20, 2012                        The Dark Knight Rises   \n",
       "8  12  May 25, 2018                      Solo: A Star Wars Story   \n",
       "9  13   Jul 2, 2013                              The Lone Ranger   \n",
       "\n",
       "   production_budget  domestic_gross  worldwide_gross   total_gross  \\\n",
       "0        425000000.0     760507625.0     2.776345e+09  3.536853e+09   \n",
       "1        410600000.0     241063875.0     1.045664e+09  1.286728e+09   \n",
       "2        350000000.0      42762350.0     1.497624e+08  1.925247e+08   \n",
       "3        330600000.0     459005868.0     1.403014e+09  1.862020e+09   \n",
       "4        300000000.0     678815482.0     2.048134e+09  2.726950e+09   \n",
       "5        300000000.0     229024295.0     6.559452e+08  8.849695e+08   \n",
       "6        300000000.0     200074175.0     8.796209e+08  1.079695e+09   \n",
       "7        275000000.0     448139099.0     1.084439e+09  1.532578e+09   \n",
       "8        275000000.0     213767512.0     3.931513e+08  6.069189e+08   \n",
       "9        275000000.0      89302115.0     2.600021e+08  3.493042e+08   \n",
       "\n",
       "   total_margin_$  total_margin_%  domestic_margin_$  ...  \\\n",
       "0    3.111853e+09      732.200683       -335507625.0  ...   \n",
       "1    8.761278e+08      213.377435        169536125.0  ...   \n",
       "2   -1.574753e+08      -44.992943        307237650.0  ...   \n",
       "3    1.531420e+09      463.224389       -128405868.0  ...   \n",
       "4    2.426950e+09      808.983227       -378815482.0  ...   \n",
       "5    5.849695e+08      194.989835         70975705.0  ...   \n",
       "6    7.796951e+08      259.898366         99925825.0  ...   \n",
       "7    1.257578e+09      457.301163       -173139099.0  ...   \n",
       "8    3.319189e+08      120.697767         61232488.0  ...   \n",
       "9    7.430423e+07       27.019720        185697885.0  ...   \n",
       "\n",
       "                      genres start_year averagerating numvotes total_weight  \\\n",
       "0                     Horror       2011           6.1       43        262.3   \n",
       "1   Action,Adventure,Fantasy       2011           6.6   447624    2954318.4   \n",
       "2    Action,Adventure,Sci-Fi       2019           6.0    24451     146706.0   \n",
       "3    Action,Adventure,Sci-Fi       2015           7.3   665594    4858836.2   \n",
       "4    Action,Adventure,Sci-Fi       2018           8.5   670926    5702871.0   \n",
       "5   Action,Adventure,Fantasy       2017           6.5   329135    2139377.5   \n",
       "6  Action,Adventure,Thriller       2015           6.8   352504    2397027.2   \n",
       "7            Action,Thriller       2012           8.4  1387769   11657259.6   \n",
       "8   Action,Adventure,Fantasy       2018           7.0   226243    1583701.0   \n",
       "9   Action,Adventure,Western       2013           6.4   208827    1336492.8   \n",
       "\n",
       "  Genre_1    Genre_2   Genre_3                         clean_title_2  \\\n",
       "0  Horror        N/A       N/A                                 abatâ   \n",
       "1  Action  Adventure   Fantasy  piratesofthecaribbeanonstrangertides   \n",
       "2  Action  Adventure    Sci-Fi                           darkphoenix   \n",
       "3  Action  Adventure    Sci-Fi                   avengersageofultron   \n",
       "4  Action  Adventure    Sci-Fi                   avengersinfinitywar   \n",
       "5  Action  Adventure   Fantasy                         justiceleague   \n",
       "6  Action  Adventure  Thriller                               spectre   \n",
       "7  Action   Thriller       N/A                    thedarkknightrises   \n",
       "8  Action  Adventure   Fantasy                    soloastarwarsstory   \n",
       "9  Action  Adventure   Western                         theloneranger   \n",
       "\n",
       "                               year_title_y  \n",
       "0                                 2011abatâ  \n",
       "1  2011piratesofthecaribbeanonstrangertides  \n",
       "2                           2019darkphoenix  \n",
       "3                   2015avengersageofultron  \n",
       "4                   2018avengersinfinitywar  \n",
       "5                         2017justiceleague  \n",
       "6                               2015spectre  \n",
       "7                    2012thedarkknightrises  \n",
       "8                    2018soloastarwarsstory  \n",
       "9                         2013theloneranger  \n",
       "\n",
       "[10 rows x 28 columns]"
      ]
     },
     "execution_count": 282,
     "metadata": {},
     "output_type": "execute_result"
    }
   ],
   "source": [
    "genre_budgets.head(10)"
   ]
  },
  {
   "cell_type": "code",
   "execution_count": 284,
   "metadata": {},
   "outputs": [
    {
     "name": "stdout",
     "output_type": "stream",
     "text": [
      "2010 2019\n"
     ]
    }
   ],
   "source": [
    "# Range of Years\n",
    "print(genre_budgets['start_year'].min(),genre_budgets['start_year'].max())"
   ]
  },
  {
   "cell_type": "code",
   "execution_count": 306,
   "metadata": {},
   "outputs": [],
   "source": [
    "genre_table = pd.DataFrame(genre_budgets[['Genre_1','Genre_2','Genre_3']].apply(pd.Series.value_counts))"
   ]
  },
  {
   "cell_type": "code",
   "execution_count": 307,
   "metadata": {},
   "outputs": [],
   "source": [
    "genre_table.fillna(0,inplace=True)"
   ]
  },
  {
   "cell_type": "code",
   "execution_count": 308,
   "metadata": {},
   "outputs": [],
   "source": [
    "genre_table['total'] = genre_table['Genre_1'] + genre_table['Genre_2'] + genre_table['Genre_3']"
   ]
  },
  {
   "cell_type": "code",
   "execution_count": 311,
   "metadata": {
    "scrolled": true
   },
   "outputs": [
    {
     "data": {
      "text/plain": [
       "array(['Action', 'Adventure', 'Animation', 'Biography', 'Comedy', 'Crime',\n",
       "       'Documentary', 'Drama', 'Family', 'Fantasy', 'History', 'Horror',\n",
       "       'Music', 'Musical', 'Mystery', 'N/A', 'News', 'Romance', 'Sci-Fi',\n",
       "       'Sport', 'Thriller', 'Unkown', 'War', 'Western'], dtype=object)"
      ]
     },
     "execution_count": 311,
     "metadata": {},
     "output_type": "execute_result"
    }
   ],
   "source": [
    "genre_table.index.values"
   ]
  },
  {
   "cell_type": "code",
   "execution_count": 331,
   "metadata": {
    "scrolled": true
   },
   "outputs": [
    {
     "data": {
      "text/plain": [
       "array(['Drama', 'Comedy', 'Action', 'Thriller', 'Adventure', 'Crime',\n",
       "       'Horror', 'Romance', 'Mystery', 'Sci-Fi'], dtype=object)"
      ]
     },
     "execution_count": 331,
     "metadata": {},
     "output_type": "execute_result"
    }
   ],
   "source": [
    "top_genres = pd.DataFrame(genre_table['total'].sort_values(ascending=False).head(11))\n",
    "top_genres.drop(index='N/A',inplace=True) \n",
    "top_genres.index.values"
   ]
  },
  {
   "cell_type": "code",
   "execution_count": null,
   "metadata": {},
   "outputs": [],
   "source": []
  }
 ],
 "metadata": {
  "kernelspec": {
   "display_name": "Python (learn-env)",
   "language": "python",
   "name": "learn-env"
  },
  "language_info": {
   "codemirror_mode": {
    "name": "ipython",
    "version": 3
   },
   "file_extension": ".py",
   "mimetype": "text/x-python",
   "name": "python",
   "nbconvert_exporter": "python",
   "pygments_lexer": "ipython3",
   "version": "3.8.5"
  }
 },
 "nbformat": 4,
 "nbformat_minor": 4
}
